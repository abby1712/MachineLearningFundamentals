{
  "cells": [
    {
      "cell_type": "markdown",
      "metadata": {
        "id": "4xCDKX4pJw5m"
      },
      "source": [
        "# Machine Learning \n",
        "## Fundamentals \n",
        "#### <p align = 'right' >Abhira A.I </p>\n",
        "---\n",
        "\n",
        "\n",
        "> Authored By Abhishek Sebastian\n",
        "\n"
      ]
    },
    {
      "cell_type": "markdown",
      "metadata": {
        "id": "VEnh_blYrqDB"
      },
      "source": [
        "# Experiment 1 - Linear Regression\n",
        "\n",
        "\n",
        "#### 15-12-2022 \n",
        "#### Ex. No: 01   \n",
        ">AIM:\n",
        "To perform linear regression using python for the given dataset.\n",
        "\n",
        "\n",
        "---\n",
        "\n",
        "\n",
        "\n",
        "> SOFTWARE USED:Google colab\n",
        "\n",
        "\n",
        "---\n",
        "\n",
        "\n",
        "ALGORITHM:\n",
        "*\tImporting necessary python package\n",
        "*\tImporting dataset\n",
        "*\tOrganizing data into training and testing sets\n",
        "*\tModel evaluation and prediction\n",
        "*\tPlot and visualization\n",
        "*\tRegression model performance.\n"
      ]
    },
    {
      "cell_type": "code",
      "execution_count": null,
      "metadata": {
        "id": "ECEPB3eMrQPR"
      },
      "outputs": [],
      "source": [
        "import numpy as np\n",
        "import pandas as pd\n",
        "import matplotlib.pyplot as plt\n",
        "import sklearn\n",
        "import random\n"
      ]
    },
    {
      "cell_type": "code",
      "execution_count": null,
      "metadata": {
        "colab": {
          "base_uri": "https://localhost:8080/"
        },
        "id": "QtdMa3KqrVl6",
        "outputId": "3907a204-5172-4912-8600-4b4c41b62d36"
      },
      "outputs": [
        {
          "name": "stdout",
          "output_type": "stream",
          "text": [
            "[0, 1, 2, 3, 4, 5, 6, 7, 8, 9, 10, 11, 12, 13, 14, 15, 16, 17, 18, 19, 20, 21, 22, 23, 24, 25, 26, 27, 28, 29, 30, 31, 32, 33, 34, 35, 36, 37, 38, 39, 40, 41, 42, 43, 44, 45, 46, 47, 48, 49, 50, 51, 52, 53, 54, 55, 56, 57, 58, 59, 60, 61, 62, 63, 64, 65, 66, 67, 68, 69, 70, 71, 72, 73, 74, 75, 76, 77, 78, 79, 80, 81, 82, 83, 84, 85, 86, 87, 88, 89, 90, 91, 92, 93, 94, 95, 96, 97, 98, 99] [82, 39, 31, 111, 28, 22, 39, 21, 39, 65, 50, 37, 95, 124, 121, 111, 99, 85, 83, 94, 48, 104, 60, 92, 91, 91, 116, 159, 63, 64, 143, 75, 74, 78, 91, 108, 126, 126, 111, 165, 173, 187, 114, 160, 191, 138, 183, 168, 134, 115, 139, 117, 155, 195, 122, 204, 136, 137, 172, 183, 212, 154, 137, 138, 173, 200, 212, 192, 239, 157, 221, 240, 150, 210, 167, 179, 194, 230, 212, 173, 252, 182, 185, 180, 259, 261, 186, 230, 192, 210, 248, 187, 279, 199, 291, 257, 289, 245, 254, 258]\n"
          ]
        }
      ],
      "source": [
        "X_lst,Y_lst,Z_lst=[],[],[]\n",
        "for i in range(100):\n",
        "  X_lst.append(i)\n",
        "  Y_lst.append(2*i+5+random.randint(0,100))\n",
        "  Z_lst.append(-4*i+10+random.randint(0,100))\n",
        "\n",
        "print(X_lst,Y_lst)\n",
        "\n",
        "def best_fit_line(x_values, y_values):\n",
        "    \"\"\"Returns slope and y-intercept of the best fit line of the values\"\"\"\n",
        "\n",
        "    mean = lambda l: sum(l)/len(l)\n",
        "    multiply = lambda l1, l2: [a*b for a, b in zip(l1, l2)]\n",
        "\n",
        "    m = ( (mean(x_values)*mean(y_values) - mean(multiply(x_values, y_values))) / \n",
        "          (mean(x_values)**2             - mean(multiply(x_values, x_values))) )\n",
        "\n",
        "    b = mean(y_values) - m*mean(x_values)\n",
        "\n",
        "    return m, b"
      ]
    },
    {
      "cell_type": "code",
      "execution_count": null,
      "metadata": {
        "colab": {
          "base_uri": "https://localhost:8080/",
          "height": 284
        },
        "id": "54VWXPaMrcFB",
        "outputId": "02fd34d1-50e6-4a37-edaa-182fa917241d"
      },
      "outputs": [
        {
          "name": "stdout",
          "output_type": "stream",
          "text": [
            "regression line: y = 2.09x + 45.93\n"
          ]
        },
        {
          "data": {
            "image/png": "[encoded data removed]",
            "text/plain": [
              "<Figure size 432x288 with 1 Axes>"
            ]
          },
          "metadata": {},
          "output_type": "display_data"
        }
      ],
      "source": [
        "plt.scatter(X_lst,Y_lst)\n",
        "y=[]\n",
        "s,i= best_fit_line(X_lst,Y_lst)\n",
        "for j in range(len(X_lst)):\n",
        "  y.append(s*X_lst[j]+i)\n",
        "print(f\"regression line: y = {round(s,2)}x + {round(i,2)}\")\n",
        "plt.plot(X_lst,y,c='r')\n",
        "plt.show()\n"
      ]
    },
    {
      "cell_type": "markdown",
      "metadata": {
        "id": "OP6NuiTVrh6g"
      },
      "source": [
        "Performance Metrics:\n",
        "\n"
      ]
    },
    {
      "cell_type": "code",
      "execution_count": null,
      "metadata": {
        "colab": {
          "base_uri": "https://localhost:8080/"
        },
        "id": "_tH71nSIrg04",
        "outputId": "fdb76c50-cb55-4a56-9d7a-8457f52536b2"
      },
      "outputs": [
        {
          "name": "stdout",
          "output_type": "stream",
          "text": [
            "MAE=26.760693789378944\n",
            "MSE=962.7888536453643\n",
            "R2=0.7901509898010273\n"
          ]
        }
      ],
      "source": [
        "from sklearn import metrics\n",
        "from sklearn.metrics import confusion_matrix\n",
        "print(\"MAE=\"+str(metrics.mean_absolute_error(Y_lst,y)))\n",
        "print(\"MSE=\"+str(metrics.mean_squared_error(Y_lst,y)))\n",
        "print(\"R2=\"+str(metrics.r2_score(Y_lst,y)))"
      ]
    },
    {
      "cell_type": "markdown",
      "metadata": {
        "id": "ZPPLm9ZqI55W"
      },
      "source": [
        "ANALYSIS AND INFERENCE:\n",
        "1.\tThe line present in the graph is the regression line or best fit line for the \n",
        "given dataset.\n",
        "2. Data points present on the regression line are the actual values. \n",
        "3. Data points lying outside the regression line are predicted values.\n",
        "4. It finds the between salary and experience based on that it predicting the values.\n",
        "\n",
        "> \n",
        "MAE=26.760693789378944\n",
        "MSE=962.7888536453643\n",
        "R2=0.7901509898010273\n",
        "\n",
        "\n",
        "\n",
        "\n"
      ]
    },
    {
      "cell_type": "markdown",
      "metadata": {
        "id": "L9WR6vwirmEx"
      },
      "source": [
        "End Of Experiment 1\n",
        "\n",
        "---\n",
        "\n"
      ]
    },
    {
      "cell_type": "markdown",
      "metadata": {
        "id": "OWMEYTCysF8Q"
      },
      "source": [
        "# Experiment-2 Multiple Linear Regression\n",
        "\n",
        "---\n",
        "\n",
        "#### 22-12-2022 \n",
        "#### Ex. No: 02   \n",
        "#### <p align = 'right' >20BEC1118 Abhishek Sebastian  </p>\n",
        "\n",
        "---\n",
        ">AIM:\n",
        "To perform multiple linear regression on a given data, visualize the data and analyse the performance of trained model.\n",
        "\n",
        "\n",
        "---\n",
        "\n",
        "\n",
        ">SOFTWARE USED:Google colab\n",
        "\n",
        "\n",
        "---\n",
        "\n",
        "\n",
        ">ALGORITHM:\n",
        "\n",
        "\n",
        "*\tImporting necessary python package\n",
        "*\tImporting dataset\n",
        "*\tOrganizing data into training and testing sets\n",
        "*\tModel evaluation and prediction\n",
        "*\tPlot and visualization\n",
        "*\tRegression model performance.\n",
        "\n",
        "---\n",
        "\n",
        "\n"
      ]
    },
    {
      "cell_type": "code",
      "execution_count": null,
      "metadata": {
        "colab": {
          "base_uri": "https://localhost:8080/",
          "height": 206
        },
        "id": "VQGI-GQJsNWH",
        "outputId": "19dbf9ee-e9fd-441b-e2ed-1e8c0bbfa33d"
      },
      "outputs": [
        {
          "data": {
            "text/html": [
              "\n",
              "  <div id=\"df-6337bd73-ffd4-412b-83a9-01fa47e41706\">\n",
              "    <div class=\"colab-df-container\">\n",
              "      <div>\n",
              "<style scoped>\n",
              "    .dataframe tbody tr th:only-of-type {\n",
              "        vertical-align: middle;\n",
              "    }\n",
              "\n",
              "    .dataframe tbody tr th {\n",
              "        vertical-align: top;\n",
              "    }\n",
              "\n",
              "    .dataframe thead th {\n",
              "        text-align: right;\n",
              "    }\n",
              "</style>\n",
              "<table border=\"1\" class=\"dataframe\">\n",
              "  <thead>\n",
              "    <tr style=\"text-align: right;\">\n",
              "      <th></th>\n",
              "      <th>sepal_length</th>\n",
              "      <th>sepal_width</th>\n",
              "      <th>petal_length</th>\n",
              "      <th>petal_width</th>\n",
              "      <th>species</th>\n",
              "    </tr>\n",
              "  </thead>\n",
              "  <tbody>\n",
              "    <tr>\n",
              "      <th>0</th>\n",
              "      <td>5.1</td>\n",
              "      <td>3.5</td>\n",
              "      <td>1.4</td>\n",
              "      <td>0.2</td>\n",
              "      <td>setosa</td>\n",
              "    </tr>\n",
              "    <tr>\n",
              "      <th>1</th>\n",
              "      <td>4.9</td>\n",
              "      <td>3.0</td>\n",
              "      <td>1.4</td>\n",
              "      <td>0.2</td>\n",
              "      <td>setosa</td>\n",
              "    </tr>\n",
              "    <tr>\n",
              "      <th>2</th>\n",
              "      <td>4.7</td>\n",
              "      <td>3.2</td>\n",
              "      <td>1.3</td>\n",
              "      <td>0.2</td>\n",
              "      <td>setosa</td>\n",
              "    </tr>\n",
              "    <tr>\n",
              "      <th>3</th>\n",
              "      <td>4.6</td>\n",
              "      <td>3.1</td>\n",
              "      <td>1.5</td>\n",
              "      <td>0.2</td>\n",
              "      <td>setosa</td>\n",
              "    </tr>\n",
              "    <tr>\n",
              "      <th>4</th>\n",
              "      <td>5.0</td>\n",
              "      <td>3.6</td>\n",
              "      <td>1.4</td>\n",
              "      <td>0.2</td>\n",
              "      <td>setosa</td>\n",
              "    </tr>\n",
              "  </tbody>\n",
              "</table>\n",
              "</div>\n",
              "      <button class=\"colab-df-convert\" onclick=\"convertToInteractive('df-6337bd73-ffd4-412b-83a9-01fa47e41706')\"\n",
              "              title=\"Convert this dataframe to an interactive table.\"\n",
              "              style=\"display:none;\">\n",
              "        \n",
              "  <svg xmlns=\"http://www.w3.org/2000/svg\" height=\"24px\"viewBox=\"0 0 24 24\"\n",
              "       width=\"24px\">\n",
              "    <path d=\"M0 0h24v24H0V0z\" fill=\"none\"/>\n",
              "    <path d=\"M18.56 5.44l.94 2.06.94-2.06 2.06-.94-2.06-.94-.94-2.06-.94 2.06-2.06.94zm-11 1L8.5 8.5l.94-2.06 2.06-.94-2.06-.94L8.5 2.5l-.94 2.06-2.06.94zm10 10l.94 2.06.94-2.06 2.06-.94-2.06-.94-.94-2.06-.94 2.06-2.06.94z\"/><path d=\"M17.41 7.96l-1.37-1.37c-.4-.4-.92-.59-1.43-.59-.52 0-1.04.2-1.43.59L10.3 9.45l-7.72 7.72c-.78.78-.78 2.05 0 2.83L4 21.41c.39.39.9.59 1.41.59.51 0 1.02-.2 1.41-.59l7.78-7.78 2.81-2.81c.8-.78.8-2.07 0-2.86zM5.41 20L4 18.59l7.72-7.72 1.47 1.35L5.41 20z\"/>\n",
              "  </svg>\n",
              "      </button>\n",
              "      \n",
              "  <style>\n",
              "    .colab-df-container {\n",
              "      display:flex;\n",
              "      flex-wrap:wrap;\n",
              "      gap: 12px;\n",
              "    }\n",
              "\n",
              "    .colab-df-convert {\n",
              "      background-color: #E8F0FE;\n",
              "      border: none;\n",
              "      border-radius: 50%;\n",
              "      cursor: pointer;\n",
              "      display: none;\n",
              "      fill: #1967D2;\n",
              "      height: 32px;\n",
              "      padding: 0 0 0 0;\n",
              "      width: 32px;\n",
              "    }\n",
              "\n",
              "    .colab-df-convert:hover {\n",
              "      background-color: #E2EBFA;\n",
              "      box-shadow: 0px 1px 2px rgba(60, 64, 67, 0.3), 0px 1px 3px 1px rgba(60, 64, 67, 0.15);\n",
              "      fill: #174EA6;\n",
              "    }\n",
              "\n",
              "    [theme=dark] .colab-df-convert {\n",
              "      background-color: #3B4455;\n",
              "      fill: #D2E3FC;\n",
              "    }\n",
              "\n",
              "    [theme=dark] .colab-df-convert:hover {\n",
              "      background-color: #434B5C;\n",
              "      box-shadow: 0px 1px 3px 1px rgba(0, 0, 0, 0.15);\n",
              "      filter: drop-shadow(0px 1px 2px rgba(0, 0, 0, 0.3));\n",
              "      fill: #FFFFFF;\n",
              "    }\n",
              "  </style>\n",
              "\n",
              "      <script>\n",
              "        const buttonEl =\n",
              "          document.querySelector('#df-6337bd73-ffd4-412b-83a9-01fa47e41706 button.colab-df-convert');\n",
              "        buttonEl.style.display =\n",
              "          google.colab.kernel.accessAllowed ? 'block' : 'none';\n",
              "\n",
              "        async function convertToInteractive(key) {\n",
              "          const element = document.querySelector('#df-6337bd73-ffd4-412b-83a9-01fa47e41706');\n",
              "          const dataTable =\n",
              "            await google.colab.kernel.invokeFunction('convertToInteractive',\n",
              "                                                     [key], {});\n",
              "          if (!dataTable) return;\n",
              "\n",
              "          const docLinkHtml = 'Like what you see? Visit the ' +\n",
              "            '<a target=\"_blank\" href=https://colab.research.google.com/notebooks/data_table.ipynb>data table notebook</a>'\n",
              "            + ' to learn more about interactive tables.';\n",
              "          element.innerHTML = '';\n",
              "          dataTable['output_type'] = 'display_data';\n",
              "          await google.colab.output.renderOutput(dataTable, element);\n",
              "          const docLink = document.createElement('div');\n",
              "          docLink.innerHTML = docLinkHtml;\n",
              "          element.appendChild(docLink);\n",
              "        }\n",
              "      </script>\n",
              "    </div>\n",
              "  </div>\n",
              "  "
            ],
            "text/plain": [
              "   sepal_length  sepal_width  petal_length  petal_width species\n",
              "0           5.1          3.5           1.4          0.2  setosa\n",
              "1           4.9          3.0           1.4          0.2  setosa\n",
              "2           4.7          3.2           1.3          0.2  setosa\n",
              "3           4.6          3.1           1.5          0.2  setosa\n",
              "4           5.0          3.6           1.4          0.2  setosa"
            ]
          },
          "execution_count": 7,
          "metadata": {},
          "output_type": "execute_result"
        }
      ],
      "source": [
        "import seaborn as sns\n",
        "import matplotlib.pyplot as plt\n",
        "import numpy as np\n",
        "iris = sns.load_dataset('iris')\n",
        "iris.head()"
      ]
    },
    {
      "cell_type": "code",
      "execution_count": null,
      "metadata": {
        "colab": {
          "base_uri": "https://localhost:8080/",
          "height": 322
        },
        "id": "cB0-31BdsOWg",
        "outputId": "cb3af1f5-c06e-428c-cf09-fd9e98281c75"
      },
      "outputs": [
        {
          "name": "stdout",
          "output_type": "stream",
          "text": [
            "Shape of the first independent variable: (150,)\n",
            "Shape of the second independent variable: (150,)\n",
            "Shape of the dependant variable: (150,)\n"
          ]
        },
        {
          "data": {
            "text/plain": [
              "<mpl_toolkits.mplot3d.art3d.Path3DCollection at 0x7f0982dbaaf0>"
            ]
          },
          "execution_count": 8,
          "metadata": {},
          "output_type": "execute_result"
        },
        {
          "data": {
            "image/png": "[encoded data removed]",
            "text/plain": [
              "<Figure size 432x288 with 1 Axes>"
            ]
          },
          "metadata": {},
          "output_type": "display_data"
        }
      ],
      "source": [
        "X1 = iris['sepal_length']\n",
        "X2 = iris['petal_length']\n",
        "Y = iris['petal_width']\n",
        "\n",
        "print('Shape of the first independent variable: ' + str(X1.shape))\n",
        "print('Shape of the second independent variable: ' + str(X2.shape))\n",
        "print('Shape of the dependant variable: ' + str(Y.shape))\n",
        "\n",
        "# Plot the variables\n",
        "fig = plt.figure()\n",
        "ax = plt.axes(projection='3d')\n",
        "ax.scatter3D(X1, X2, Y)"
      ]
    },
    {
      "cell_type": "code",
      "execution_count": null,
      "metadata": {
        "colab": {
          "base_uri": "https://localhost:8080/"
        },
        "id": "D6MMWB09sRhA",
        "outputId": "ed65a8e5-53de-4b9d-b124-c84f5068d3f7"
      },
      "outputs": [
        {
          "name": "stdout",
          "output_type": "stream",
          "text": [
            "Showing the first 5 points of Dt:\n",
            "[[1.  5.1 1.4]\n",
            " [1.  4.9 1.4]\n",
            " [1.  4.7 1.3]\n",
            " [1.  4.6 1.5]\n",
            " [1.  5.  1.4]]\n"
          ]
        }
      ],
      "source": [
        "# Create column of ones\n",
        "Ones = np.ones((len(X1),))\n",
        "# Stack the three columns to form Dtilde\n",
        "Dt = np.vstack((Ones, X1, X2)).T\n",
        "print(\"Showing the first 5 points of Dt:\")\n",
        "print(Dt[:5])"
      ]
    },
    {
      "cell_type": "code",
      "execution_count": null,
      "metadata": {
        "colab": {
          "base_uri": "https://localhost:8080/"
        },
        "id": "4Uve_xBHsZWo",
        "outputId": "0e7a9e3b-318f-469d-8af1-526a73fc0404"
      },
      "outputs": [
        {
          "name": "stdout",
          "output_type": "stream",
          "text": [
            "Regression coefficients:\n",
            "[-0.00899597 -0.08221782  0.44937611]\n",
            "Printing the first 10 estimated values of Yt: \n",
            "[0.2008197  0.21726327 0.18876922 0.28686622 0.20904148 0.31096719\n",
            " 0.24192861 0.25397909 0.25837218 0.26220088]\n"
          ]
        }
      ],
      "source": [
        "# Calculate the regression coefficients\n",
        "wt =  np.linalg.inv(Dt.T.dot(Dt)).dot(Dt.T.dot(Y))\n",
        "\n",
        "print(\"Regression coefficients:\")\n",
        "print(wt)\n",
        "\n",
        "# Print estimated response variable\n",
        "Yt = Dt.dot(wt)\n",
        "print(\"Printing the first 10 estimated values of Yt: \")\n",
        "print(Yt[:10])"
      ]
    },
    {
      "cell_type": "code",
      "execution_count": null,
      "metadata": {
        "colab": {
          "base_uri": "https://localhost:8080/",
          "height": 248
        },
        "id": "oJEG83_QsZ2o",
        "outputId": "c20d9c6a-7f39-4cae-87ef-f78319700d59"
      },
      "outputs": [
        {
          "data": {
            "image/png": "[encoded data removed]",
            "text/plain": [
              "<Figure size 432x288 with 1 Axes>"
            ]
          },
          "metadata": {},
          "output_type": "display_data"
        }
      ],
      "source": [
        "# Range of petal and sepal lengths\n",
        "X1s, X2s = np.meshgrid(range(10), range(10))\n",
        "\n",
        "# Apply the linear regression model\n",
        "ys = -0.0089 - 0.082 * X1s + 0.449 * X2s\n",
        "\n",
        "# Plot the dataset and the hyperplane\n",
        "fig = plt.figure()\n",
        "ax = plt.axes(projection='3d')\n",
        "ax.scatter3D(X1, X2, Y)\n",
        "ax.plot_surface(X1s, X2s, ys, alpha=0.3)\n",
        "ax.view_init(10,10)"
      ]
    },
    {
      "cell_type": "markdown",
      "metadata": {
        "id": "1OQJ6T6gL22m"
      },
      "source": [
        "ANALYSIS AND INTERFERNCE:\n",
        ">\n",
        "⦁\tIt was inferred that since R-squared value which is closer to 1 and the error values are minimal, the regression can be considered as best fit.\n"
      ]
    },
    {
      "cell_type": "markdown",
      "metadata": {
        "id": "QzmXw3YcM1zZ"
      },
      "source": [
        ">RESULT:\n",
        "Therefore, multiple linear regression analysis was performed on a dataset successfully, plots were visualized and performance of trained model was computed.\n"
      ]
    },
    {
      "cell_type": "markdown",
      "metadata": {
        "id": "AQ1Z5zYIsfbP"
      },
      "source": [
        "End Of Experiment 2"
      ]
    },
    {
      "cell_type": "markdown",
      "metadata": {
        "id": "ZvpLjv9wKVMV"
      },
      "source": [
        "# Experiment-3 Logistic Regression\n",
        "#### 5-1-2023 \n",
        "#### Ex. No: 03   \n",
        "#### <p align = 'right' >20BEC1118 Abhishek Sebastian  </p>\n",
        "\n",
        "---\n",
        ">AIM:\n",
        "To perform logistic regression on a given data, plot the confusion matrix and analyse the performance of trained model.\n",
        "\n",
        "\n",
        "---\n",
        "\n",
        "\n",
        ">SOFTWARE USED: Google colab\n",
        "\n",
        "\n",
        "---\n",
        "\n",
        "\n",
        ">ALGORITHM:\n",
        "\n",
        "*\tImporting necessary python package\n",
        "*\tImporting dataset\n",
        "*\tOrganizing data into training and testing sets\n",
        "*\tModel evaluation and prediction\n",
        "*\tPlot and visualization\n",
        "*\tRegression model performance.\n",
        "\n",
        "\n",
        "---\n",
        "Code:\n"
      ]
    },
    {
      "cell_type": "code",
      "execution_count": null,
      "metadata": {
        "id": "XVy7F0GIKcG2"
      },
      "outputs": [],
      "source": [
        "import numpy as np\n",
        "from sklearn import linear_model\n",
        "import sklearn.metrics as sm  \n",
        "import matplotlib.pyplot as plt"
      ]
    },
    {
      "cell_type": "code",
      "execution_count": null,
      "metadata": {
        "colab": {
          "base_uri": "https://localhost:8080/",
          "height": 423
        },
        "id": "qWNOb6Y4NSxy",
        "outputId": "9931819f-32ea-4b6e-cd6d-75bd711e2467"
      },
      "outputs": [
        {
          "data": {
            "text/html": [
              "\n",
              "  <div id=\"df-e1dd886a-3d00-44ee-b492-878c2de10159\">\n",
              "    <div class=\"colab-df-container\">\n",
              "      <div>\n",
              "<style scoped>\n",
              "    .dataframe tbody tr th:only-of-type {\n",
              "        vertical-align: middle;\n",
              "    }\n",
              "\n",
              "    .dataframe tbody tr th {\n",
              "        vertical-align: top;\n",
              "    }\n",
              "\n",
              "    .dataframe thead th {\n",
              "        text-align: right;\n",
              "    }\n",
              "</style>\n",
              "<table border=\"1\" class=\"dataframe\">\n",
              "  <thead>\n",
              "    <tr style=\"text-align: right;\">\n",
              "      <th></th>\n",
              "      <th>User ID</th>\n",
              "      <th>Gender</th>\n",
              "      <th>Age</th>\n",
              "      <th>AnnualSalary</th>\n",
              "      <th>Purchased</th>\n",
              "    </tr>\n",
              "  </thead>\n",
              "  <tbody>\n",
              "    <tr>\n",
              "      <th>0</th>\n",
              "      <td>385</td>\n",
              "      <td>Male</td>\n",
              "      <td>35</td>\n",
              "      <td>20000</td>\n",
              "      <td>0</td>\n",
              "    </tr>\n",
              "    <tr>\n",
              "      <th>1</th>\n",
              "      <td>681</td>\n",
              "      <td>Male</td>\n",
              "      <td>40</td>\n",
              "      <td>43500</td>\n",
              "      <td>0</td>\n",
              "    </tr>\n",
              "    <tr>\n",
              "      <th>2</th>\n",
              "      <td>353</td>\n",
              "      <td>Male</td>\n",
              "      <td>49</td>\n",
              "      <td>74000</td>\n",
              "      <td>0</td>\n",
              "    </tr>\n",
              "    <tr>\n",
              "      <th>3</th>\n",
              "      <td>895</td>\n",
              "      <td>Male</td>\n",
              "      <td>40</td>\n",
              "      <td>107500</td>\n",
              "      <td>1</td>\n",
              "    </tr>\n",
              "    <tr>\n",
              "      <th>4</th>\n",
              "      <td>661</td>\n",
              "      <td>Male</td>\n",
              "      <td>25</td>\n",
              "      <td>79000</td>\n",
              "      <td>0</td>\n",
              "    </tr>\n",
              "    <tr>\n",
              "      <th>...</th>\n",
              "      <td>...</td>\n",
              "      <td>...</td>\n",
              "      <td>...</td>\n",
              "      <td>...</td>\n",
              "      <td>...</td>\n",
              "    </tr>\n",
              "    <tr>\n",
              "      <th>995</th>\n",
              "      <td>863</td>\n",
              "      <td>Male</td>\n",
              "      <td>38</td>\n",
              "      <td>59000</td>\n",
              "      <td>0</td>\n",
              "    </tr>\n",
              "    <tr>\n",
              "      <th>996</th>\n",
              "      <td>800</td>\n",
              "      <td>Female</td>\n",
              "      <td>47</td>\n",
              "      <td>23500</td>\n",
              "      <td>0</td>\n",
              "    </tr>\n",
              "    <tr>\n",
              "      <th>997</th>\n",
              "      <td>407</td>\n",
              "      <td>Female</td>\n",
              "      <td>28</td>\n",
              "      <td>138500</td>\n",
              "      <td>1</td>\n",
              "    </tr>\n",
              "    <tr>\n",
              "      <th>998</th>\n",
              "      <td>299</td>\n",
              "      <td>Female</td>\n",
              "      <td>48</td>\n",
              "      <td>134000</td>\n",
              "      <td>1</td>\n",
              "    </tr>\n",
              "    <tr>\n",
              "      <th>999</th>\n",
              "      <td>687</td>\n",
              "      <td>Female</td>\n",
              "      <td>44</td>\n",
              "      <td>73500</td>\n",
              "      <td>0</td>\n",
              "    </tr>\n",
              "  </tbody>\n",
              "</table>\n",
              "<p>1000 rows × 5 columns</p>\n",
              "</div>\n",
              "      <button class=\"colab-df-convert\" onclick=\"convertToInteractive('df-e1dd886a-3d00-44ee-b492-878c2de10159')\"\n",
              "              title=\"Convert this dataframe to an interactive table.\"\n",
              "              style=\"display:none;\">\n",
              "        \n",
              "  <svg xmlns=\"http://www.w3.org/2000/svg\" height=\"24px\"viewBox=\"0 0 24 24\"\n",
              "       width=\"24px\">\n",
              "    <path d=\"M0 0h24v24H0V0z\" fill=\"none\"/>\n",
              "    <path d=\"M18.56 5.44l.94 2.06.94-2.06 2.06-.94-2.06-.94-.94-2.06-.94 2.06-2.06.94zm-11 1L8.5 8.5l.94-2.06 2.06-.94-2.06-.94L8.5 2.5l-.94 2.06-2.06.94zm10 10l.94 2.06.94-2.06 2.06-.94-2.06-.94-.94-2.06-.94 2.06-2.06.94z\"/><path d=\"M17.41 7.96l-1.37-1.37c-.4-.4-.92-.59-1.43-.59-.52 0-1.04.2-1.43.59L10.3 9.45l-7.72 7.72c-.78.78-.78 2.05 0 2.83L4 21.41c.39.39.9.59 1.41.59.51 0 1.02-.2 1.41-.59l7.78-7.78 2.81-2.81c.8-.78.8-2.07 0-2.86zM5.41 20L4 18.59l7.72-7.72 1.47 1.35L5.41 20z\"/>\n",
              "  </svg>\n",
              "      </button>\n",
              "      \n",
              "  <style>\n",
              "    .colab-df-container {\n",
              "      display:flex;\n",
              "      flex-wrap:wrap;\n",
              "      gap: 12px;\n",
              "    }\n",
              "\n",
              "    .colab-df-convert {\n",
              "      background-color: #E8F0FE;\n",
              "      border: none;\n",
              "      border-radius: 50%;\n",
              "      cursor: pointer;\n",
              "      display: none;\n",
              "      fill: #1967D2;\n",
              "      height: 32px;\n",
              "      padding: 0 0 0 0;\n",
              "      width: 32px;\n",
              "    }\n",
              "\n",
              "    .colab-df-convert:hover {\n",
              "      background-color: #E2EBFA;\n",
              "      box-shadow: 0px 1px 2px rgba(60, 64, 67, 0.3), 0px 1px 3px 1px rgba(60, 64, 67, 0.15);\n",
              "      fill: #174EA6;\n",
              "    }\n",
              "\n",
              "    [theme=dark] .colab-df-convert {\n",
              "      background-color: #3B4455;\n",
              "      fill: #D2E3FC;\n",
              "    }\n",
              "\n",
              "    [theme=dark] .colab-df-convert:hover {\n",
              "      background-color: #434B5C;\n",
              "      box-shadow: 0px 1px 3px 1px rgba(0, 0, 0, 0.15);\n",
              "      filter: drop-shadow(0px 1px 2px rgba(0, 0, 0, 0.3));\n",
              "      fill: #FFFFFF;\n",
              "    }\n",
              "  </style>\n",
              "\n",
              "      <script>\n",
              "        const buttonEl =\n",
              "          document.querySelector('#df-e1dd886a-3d00-44ee-b492-878c2de10159 button.colab-df-convert');\n",
              "        buttonEl.style.display =\n",
              "          google.colab.kernel.accessAllowed ? 'block' : 'none';\n",
              "\n",
              "        async function convertToInteractive(key) {\n",
              "          const element = document.querySelector('#df-e1dd886a-3d00-44ee-b492-878c2de10159');\n",
              "          const dataTable =\n",
              "            await google.colab.kernel.invokeFunction('convertToInteractive',\n",
              "                                                     [key], {});\n",
              "          if (!dataTable) return;\n",
              "\n",
              "          const docLinkHtml = 'Like what you see? Visit the ' +\n",
              "            '<a target=\"_blank\" href=https://colab.research.google.com/notebooks/data_table.ipynb>data table notebook</a>'\n",
              "            + ' to learn more about interactive tables.';\n",
              "          element.innerHTML = '';\n",
              "          dataTable['output_type'] = 'display_data';\n",
              "          await google.colab.output.renderOutput(dataTable, element);\n",
              "          const docLink = document.createElement('div');\n",
              "          docLink.innerHTML = docLinkHtml;\n",
              "          element.appendChild(docLink);\n",
              "        }\n",
              "      </script>\n",
              "    </div>\n",
              "  </div>\n",
              "  "
            ],
            "text/plain": [
              "     User ID  Gender  Age  AnnualSalary  Purchased\n",
              "0        385    Male   35         20000          0\n",
              "1        681    Male   40         43500          0\n",
              "2        353    Male   49         74000          0\n",
              "3        895    Male   40        107500          1\n",
              "4        661    Male   25         79000          0\n",
              "..       ...     ...  ...           ...        ...\n",
              "995      863    Male   38         59000          0\n",
              "996      800  Female   47         23500          0\n",
              "997      407  Female   28        138500          1\n",
              "998      299  Female   48        134000          1\n",
              "999      687  Female   44         73500          0\n",
              "\n",
              "[1000 rows x 5 columns]"
            ]
          },
          "execution_count": 37,
          "metadata": {},
          "output_type": "execute_result"
        }
      ],
      "source": [
        "import pandas as pd \n",
        "data=pd.read_csv('/content/car_data.csv')\n",
        "data"
      ]
    },
    {
      "cell_type": "code",
      "execution_count": null,
      "metadata": {
        "colab": {
          "base_uri": "https://localhost:8080/",
          "height": 423
        },
        "id": "PObduIUWNTTq",
        "outputId": "570c2931-06d0-4282-c063-b0b10abb54a1"
      },
      "outputs": [
        {
          "data": {
            "text/html": [
              "\n",
              "  <div id=\"df-5c49d6c8-cbe4-4f71-b717-ba1159e62a87\">\n",
              "    <div class=\"colab-df-container\">\n",
              "      <div>\n",
              "<style scoped>\n",
              "    .dataframe tbody tr th:only-of-type {\n",
              "        vertical-align: middle;\n",
              "    }\n",
              "\n",
              "    .dataframe tbody tr th {\n",
              "        vertical-align: top;\n",
              "    }\n",
              "\n",
              "    .dataframe thead th {\n",
              "        text-align: right;\n",
              "    }\n",
              "</style>\n",
              "<table border=\"1\" class=\"dataframe\">\n",
              "  <thead>\n",
              "    <tr style=\"text-align: right;\">\n",
              "      <th></th>\n",
              "      <th>Age</th>\n",
              "      <th>AnnualSalary</th>\n",
              "    </tr>\n",
              "  </thead>\n",
              "  <tbody>\n",
              "    <tr>\n",
              "      <th>0</th>\n",
              "      <td>35</td>\n",
              "      <td>20000</td>\n",
              "    </tr>\n",
              "    <tr>\n",
              "      <th>1</th>\n",
              "      <td>40</td>\n",
              "      <td>43500</td>\n",
              "    </tr>\n",
              "    <tr>\n",
              "      <th>2</th>\n",
              "      <td>49</td>\n",
              "      <td>74000</td>\n",
              "    </tr>\n",
              "    <tr>\n",
              "      <th>3</th>\n",
              "      <td>40</td>\n",
              "      <td>107500</td>\n",
              "    </tr>\n",
              "    <tr>\n",
              "      <th>4</th>\n",
              "      <td>25</td>\n",
              "      <td>79000</td>\n",
              "    </tr>\n",
              "    <tr>\n",
              "      <th>...</th>\n",
              "      <td>...</td>\n",
              "      <td>...</td>\n",
              "    </tr>\n",
              "    <tr>\n",
              "      <th>995</th>\n",
              "      <td>38</td>\n",
              "      <td>59000</td>\n",
              "    </tr>\n",
              "    <tr>\n",
              "      <th>996</th>\n",
              "      <td>47</td>\n",
              "      <td>23500</td>\n",
              "    </tr>\n",
              "    <tr>\n",
              "      <th>997</th>\n",
              "      <td>28</td>\n",
              "      <td>138500</td>\n",
              "    </tr>\n",
              "    <tr>\n",
              "      <th>998</th>\n",
              "      <td>48</td>\n",
              "      <td>134000</td>\n",
              "    </tr>\n",
              "    <tr>\n",
              "      <th>999</th>\n",
              "      <td>44</td>\n",
              "      <td>73500</td>\n",
              "    </tr>\n",
              "  </tbody>\n",
              "</table>\n",
              "<p>1000 rows × 2 columns</p>\n",
              "</div>\n",
              "      <button class=\"colab-df-convert\" onclick=\"convertToInteractive('df-5c49d6c8-cbe4-4f71-b717-ba1159e62a87')\"\n",
              "              title=\"Convert this dataframe to an interactive table.\"\n",
              "              style=\"display:none;\">\n",
              "        \n",
              "  <svg xmlns=\"http://www.w3.org/2000/svg\" height=\"24px\"viewBox=\"0 0 24 24\"\n",
              "       width=\"24px\">\n",
              "    <path d=\"M0 0h24v24H0V0z\" fill=\"none\"/>\n",
              "    <path d=\"M18.56 5.44l.94 2.06.94-2.06 2.06-.94-2.06-.94-.94-2.06-.94 2.06-2.06.94zm-11 1L8.5 8.5l.94-2.06 2.06-.94-2.06-.94L8.5 2.5l-.94 2.06-2.06.94zm10 10l.94 2.06.94-2.06 2.06-.94-2.06-.94-.94-2.06-.94 2.06-2.06.94z\"/><path d=\"M17.41 7.96l-1.37-1.37c-.4-.4-.92-.59-1.43-.59-.52 0-1.04.2-1.43.59L10.3 9.45l-7.72 7.72c-.78.78-.78 2.05 0 2.83L4 21.41c.39.39.9.59 1.41.59.51 0 1.02-.2 1.41-.59l7.78-7.78 2.81-2.81c.8-.78.8-2.07 0-2.86zM5.41 20L4 18.59l7.72-7.72 1.47 1.35L5.41 20z\"/>\n",
              "  </svg>\n",
              "      </button>\n",
              "      \n",
              "  <style>\n",
              "    .colab-df-container {\n",
              "      display:flex;\n",
              "      flex-wrap:wrap;\n",
              "      gap: 12px;\n",
              "    }\n",
              "\n",
              "    .colab-df-convert {\n",
              "      background-color: #E8F0FE;\n",
              "      border: none;\n",
              "      border-radius: 50%;\n",
              "      cursor: pointer;\n",
              "      display: none;\n",
              "      fill: #1967D2;\n",
              "      height: 32px;\n",
              "      padding: 0 0 0 0;\n",
              "      width: 32px;\n",
              "    }\n",
              "\n",
              "    .colab-df-convert:hover {\n",
              "      background-color: #E2EBFA;\n",
              "      box-shadow: 0px 1px 2px rgba(60, 64, 67, 0.3), 0px 1px 3px 1px rgba(60, 64, 67, 0.15);\n",
              "      fill: #174EA6;\n",
              "    }\n",
              "\n",
              "    [theme=dark] .colab-df-convert {\n",
              "      background-color: #3B4455;\n",
              "      fill: #D2E3FC;\n",
              "    }\n",
              "\n",
              "    [theme=dark] .colab-df-convert:hover {\n",
              "      background-color: #434B5C;\n",
              "      box-shadow: 0px 1px 3px 1px rgba(0, 0, 0, 0.15);\n",
              "      filter: drop-shadow(0px 1px 2px rgba(0, 0, 0, 0.3));\n",
              "      fill: #FFFFFF;\n",
              "    }\n",
              "  </style>\n",
              "\n",
              "      <script>\n",
              "        const buttonEl =\n",
              "          document.querySelector('#df-5c49d6c8-cbe4-4f71-b717-ba1159e62a87 button.colab-df-convert');\n",
              "        buttonEl.style.display =\n",
              "          google.colab.kernel.accessAllowed ? 'block' : 'none';\n",
              "\n",
              "        async function convertToInteractive(key) {\n",
              "          const element = document.querySelector('#df-5c49d6c8-cbe4-4f71-b717-ba1159e62a87');\n",
              "          const dataTable =\n",
              "            await google.colab.kernel.invokeFunction('convertToInteractive',\n",
              "                                                     [key], {});\n",
              "          if (!dataTable) return;\n",
              "\n",
              "          const docLinkHtml = 'Like what you see? Visit the ' +\n",
              "            '<a target=\"_blank\" href=https://colab.research.google.com/notebooks/data_table.ipynb>data table notebook</a>'\n",
              "            + ' to learn more about interactive tables.';\n",
              "          element.innerHTML = '';\n",
              "          dataTable['output_type'] = 'display_data';\n",
              "          await google.colab.output.renderOutput(dataTable, element);\n",
              "          const docLink = document.createElement('div');\n",
              "          docLink.innerHTML = docLinkHtml;\n",
              "          element.appendChild(docLink);\n",
              "        }\n",
              "      </script>\n",
              "    </div>\n",
              "  </div>\n",
              "  "
            ],
            "text/plain": [
              "     Age  AnnualSalary\n",
              "0     35         20000\n",
              "1     40         43500\n",
              "2     49         74000\n",
              "3     40        107500\n",
              "4     25         79000\n",
              "..   ...           ...\n",
              "995   38         59000\n",
              "996   47         23500\n",
              "997   28        138500\n",
              "998   48        134000\n",
              "999   44         73500\n",
              "\n",
              "[1000 rows x 2 columns]"
            ]
          },
          "execution_count": 38,
          "metadata": {},
          "output_type": "execute_result"
        }
      ],
      "source": [
        "X = data.loc[:,['Age','AnnualSalary']]\n",
        "X"
      ]
    },
    {
      "cell_type": "code",
      "execution_count": null,
      "metadata": {
        "colab": {
          "base_uri": "https://localhost:8080/",
          "height": 423
        },
        "id": "CcC3xNoANTbh",
        "outputId": "f744f8fe-22f4-4797-bf90-679e4ee75bfb"
      },
      "outputs": [
        {
          "data": {
            "text/html": [
              "\n",
              "  <div id=\"df-55654205-a541-4822-af91-b85749d0b978\">\n",
              "    <div class=\"colab-df-container\">\n",
              "      <div>\n",
              "<style scoped>\n",
              "    .dataframe tbody tr th:only-of-type {\n",
              "        vertical-align: middle;\n",
              "    }\n",
              "\n",
              "    .dataframe tbody tr th {\n",
              "        vertical-align: top;\n",
              "    }\n",
              "\n",
              "    .dataframe thead th {\n",
              "        text-align: right;\n",
              "    }\n",
              "</style>\n",
              "<table border=\"1\" class=\"dataframe\">\n",
              "  <thead>\n",
              "    <tr style=\"text-align: right;\">\n",
              "      <th></th>\n",
              "      <th>Purchased</th>\n",
              "    </tr>\n",
              "  </thead>\n",
              "  <tbody>\n",
              "    <tr>\n",
              "      <th>0</th>\n",
              "      <td>0</td>\n",
              "    </tr>\n",
              "    <tr>\n",
              "      <th>1</th>\n",
              "      <td>0</td>\n",
              "    </tr>\n",
              "    <tr>\n",
              "      <th>2</th>\n",
              "      <td>0</td>\n",
              "    </tr>\n",
              "    <tr>\n",
              "      <th>3</th>\n",
              "      <td>1</td>\n",
              "    </tr>\n",
              "    <tr>\n",
              "      <th>4</th>\n",
              "      <td>0</td>\n",
              "    </tr>\n",
              "    <tr>\n",
              "      <th>...</th>\n",
              "      <td>...</td>\n",
              "    </tr>\n",
              "    <tr>\n",
              "      <th>995</th>\n",
              "      <td>0</td>\n",
              "    </tr>\n",
              "    <tr>\n",
              "      <th>996</th>\n",
              "      <td>0</td>\n",
              "    </tr>\n",
              "    <tr>\n",
              "      <th>997</th>\n",
              "      <td>1</td>\n",
              "    </tr>\n",
              "    <tr>\n",
              "      <th>998</th>\n",
              "      <td>1</td>\n",
              "    </tr>\n",
              "    <tr>\n",
              "      <th>999</th>\n",
              "      <td>0</td>\n",
              "    </tr>\n",
              "  </tbody>\n",
              "</table>\n",
              "<p>1000 rows × 1 columns</p>\n",
              "</div>\n",
              "      <button class=\"colab-df-convert\" onclick=\"convertToInteractive('df-55654205-a541-4822-af91-b85749d0b978')\"\n",
              "              title=\"Convert this dataframe to an interactive table.\"\n",
              "              style=\"display:none;\">\n",
              "        \n",
              "  <svg xmlns=\"http://www.w3.org/2000/svg\" height=\"24px\"viewBox=\"0 0 24 24\"\n",
              "       width=\"24px\">\n",
              "    <path d=\"M0 0h24v24H0V0z\" fill=\"none\"/>\n",
              "    <path d=\"M18.56 5.44l.94 2.06.94-2.06 2.06-.94-2.06-.94-.94-2.06-.94 2.06-2.06.94zm-11 1L8.5 8.5l.94-2.06 2.06-.94-2.06-.94L8.5 2.5l-.94 2.06-2.06.94zm10 10l.94 2.06.94-2.06 2.06-.94-2.06-.94-.94-2.06-.94 2.06-2.06.94z\"/><path d=\"M17.41 7.96l-1.37-1.37c-.4-.4-.92-.59-1.43-.59-.52 0-1.04.2-1.43.59L10.3 9.45l-7.72 7.72c-.78.78-.78 2.05 0 2.83L4 21.41c.39.39.9.59 1.41.59.51 0 1.02-.2 1.41-.59l7.78-7.78 2.81-2.81c.8-.78.8-2.07 0-2.86zM5.41 20L4 18.59l7.72-7.72 1.47 1.35L5.41 20z\"/>\n",
              "  </svg>\n",
              "      </button>\n",
              "      \n",
              "  <style>\n",
              "    .colab-df-container {\n",
              "      display:flex;\n",
              "      flex-wrap:wrap;\n",
              "      gap: 12px;\n",
              "    }\n",
              "\n",
              "    .colab-df-convert {\n",
              "      background-color: #E8F0FE;\n",
              "      border: none;\n",
              "      border-radius: 50%;\n",
              "      cursor: pointer;\n",
              "      display: none;\n",
              "      fill: #1967D2;\n",
              "      height: 32px;\n",
              "      padding: 0 0 0 0;\n",
              "      width: 32px;\n",
              "    }\n",
              "\n",
              "    .colab-df-convert:hover {\n",
              "      background-color: #E2EBFA;\n",
              "      box-shadow: 0px 1px 2px rgba(60, 64, 67, 0.3), 0px 1px 3px 1px rgba(60, 64, 67, 0.15);\n",
              "      fill: #174EA6;\n",
              "    }\n",
              "\n",
              "    [theme=dark] .colab-df-convert {\n",
              "      background-color: #3B4455;\n",
              "      fill: #D2E3FC;\n",
              "    }\n",
              "\n",
              "    [theme=dark] .colab-df-convert:hover {\n",
              "      background-color: #434B5C;\n",
              "      box-shadow: 0px 1px 3px 1px rgba(0, 0, 0, 0.15);\n",
              "      filter: drop-shadow(0px 1px 2px rgba(0, 0, 0, 0.3));\n",
              "      fill: #FFFFFF;\n",
              "    }\n",
              "  </style>\n",
              "\n",
              "      <script>\n",
              "        const buttonEl =\n",
              "          document.querySelector('#df-55654205-a541-4822-af91-b85749d0b978 button.colab-df-convert');\n",
              "        buttonEl.style.display =\n",
              "          google.colab.kernel.accessAllowed ? 'block' : 'none';\n",
              "\n",
              "        async function convertToInteractive(key) {\n",
              "          const element = document.querySelector('#df-55654205-a541-4822-af91-b85749d0b978');\n",
              "          const dataTable =\n",
              "            await google.colab.kernel.invokeFunction('convertToInteractive',\n",
              "                                                     [key], {});\n",
              "          if (!dataTable) return;\n",
              "\n",
              "          const docLinkHtml = 'Like what you see? Visit the ' +\n",
              "            '<a target=\"_blank\" href=https://colab.research.google.com/notebooks/data_table.ipynb>data table notebook</a>'\n",
              "            + ' to learn more about interactive tables.';\n",
              "          element.innerHTML = '';\n",
              "          dataTable['output_type'] = 'display_data';\n",
              "          await google.colab.output.renderOutput(dataTable, element);\n",
              "          const docLink = document.createElement('div');\n",
              "          docLink.innerHTML = docLinkHtml;\n",
              "          element.appendChild(docLink);\n",
              "        }\n",
              "      </script>\n",
              "    </div>\n",
              "  </div>\n",
              "  "
            ],
            "text/plain": [
              "     Purchased\n",
              "0            0\n",
              "1            0\n",
              "2            0\n",
              "3            1\n",
              "4            0\n",
              "..         ...\n",
              "995          0\n",
              "996          0\n",
              "997          1\n",
              "998          1\n",
              "999          0\n",
              "\n",
              "[1000 rows x 1 columns]"
            ]
          },
          "execution_count": 39,
          "metadata": {},
          "output_type": "execute_result"
        }
      ],
      "source": [
        "y = data.loc[:,['Purchased']]\n",
        "y"
      ]
    },
    {
      "cell_type": "code",
      "execution_count": null,
      "metadata": {
        "id": "Fj-GW4SANTkh"
      },
      "outputs": [],
      "source": [
        "\n",
        "from sklearn.model_selection import train_test_split\n",
        "X_train, X_test, y_train, y_test = train_test_split(X, y, test_size=0.25, random_state=16)"
      ]
    },
    {
      "cell_type": "code",
      "execution_count": null,
      "metadata": {
        "colab": {
          "base_uri": "https://localhost:8080/"
        },
        "id": "XsG23gpINc2n",
        "outputId": "eb09eb3c-9b2c-439b-e550-2bb6843cd142"
      },
      "outputs": [
        {
          "name": "stderr",
          "output_type": "stream",
          "text": [
            "/usr/local/lib/python3.8/dist-packages/sklearn/utils/validation.py:993: DataConversionWarning: A column-vector y was passed when a 1d array was expected. Please change the shape of y to (n_samples, ), for example using ravel().\n",
            "  y = column_or_1d(y, warn=True)\n"
          ]
        }
      ],
      "source": [
        "from sklearn.linear_model import LogisticRegression\n",
        "y_train = np.reshape(y_train, len(y_train))\n",
        "logReg = LogisticRegression(random_state=16)\n",
        "logReg.fit(X_train, y_train)\n",
        "y_pred = logReg.predict(X_test)"
      ]
    },
    {
      "cell_type": "code",
      "execution_count": null,
      "metadata": {
        "colab": {
          "base_uri": "https://localhost:8080/"
        },
        "id": "tdMZW_H-UNpJ",
        "outputId": "6429bfd6-1640-453f-b063-2e63bdf1c257"
      },
      "outputs": [
        {
          "data": {
            "text/plain": [
              "array([[132,  24],\n",
              "       [ 71,  23]])"
            ]
          },
          "execution_count": 42,
          "metadata": {},
          "output_type": "execute_result"
        }
      ],
      "source": [
        "from sklearn import metrics\n",
        "\n",
        "cnf_matrix = metrics.confusion_matrix(y_test, y_pred)\n",
        "cnf_matrix"
      ]
    },
    {
      "cell_type": "code",
      "execution_count": null,
      "metadata": {
        "colab": {
          "base_uri": "https://localhost:8080/",
          "height": 343
        },
        "id": "fpJavuSrUBrE",
        "outputId": "acd204d7-a7dc-4a75-c010-37e04a2b072c"
      },
      "outputs": [
        {
          "data": {
            "text/plain": [
              "Text(0.5, 257.44, 'Predicted label')"
            ]
          },
          "execution_count": 45,
          "metadata": {},
          "output_type": "execute_result"
        },
        {
          "data": {
            "image/png": "[encoded data removed]",
            "text/plain": [
              "<Figure size 432x288 with 2 Axes>"
            ]
          },
          "metadata": {},
          "output_type": "display_data"
        }
      ],
      "source": [
        "import seaborn as sns\n",
        "class_names=[0,1] # name  of classes\n",
        "fig, ax = plt.subplots()\n",
        "tick_marks = np.arange(len(class_names))\n",
        "plt.xticks(tick_marks, class_names)\n",
        "plt.yticks(tick_marks, class_names)\n",
        "# create heatmap\n",
        "sns.heatmap(pd.DataFrame(cnf_matrix), annot=True, cmap=\"YlGnBu\" ,fmt='g')\n",
        "ax.xaxis.set_label_position(\"top\")\n",
        "plt.tight_layout()\n",
        "plt.title('Confusion matrix', y=1.1)\n",
        "plt.ylabel('Actual label')\n",
        "plt.xlabel('Predicted label')"
      ]
    },
    {
      "cell_type": "code",
      "execution_count": null,
      "metadata": {
        "colab": {
          "base_uri": "https://localhost:8080/"
        },
        "id": "k5JXvWYnVI7h",
        "outputId": "89f21919-0345-4895-cf7c-d0b7e026d6ce"
      },
      "outputs": [
        {
          "name": "stdout",
          "output_type": "stream",
          "text": [
            "               precision    recall  f1-score   support\n",
            "\n",
            "Not Purchased       0.65      0.85      0.74       156\n",
            "    Purchased       0.49      0.24      0.33        94\n",
            "\n",
            "     accuracy                           0.62       250\n",
            "    macro avg       0.57      0.55      0.53       250\n",
            " weighted avg       0.59      0.62      0.58       250\n",
            "\n"
          ]
        }
      ],
      "source": [
        "from sklearn.metrics import classification_report\n",
        "target_names = ['Not Purchased', 'Purchased']\n",
        "print(classification_report(y_test, y_pred, target_names=target_names))"
      ]
    },
    {
      "cell_type": "code",
      "execution_count": null,
      "metadata": {
        "colab": {
          "base_uri": "https://localhost:8080/",
          "height": 265
        },
        "id": "wBuAioMgVKjA",
        "outputId": "1e223fe2-1402-4654-9da6-d061ddbe6122"
      },
      "outputs": [
        {
          "data": {
            "image/png": "[encoded data removed]",
            "text/plain": [
              "<Figure size 432x288 with 1 Axes>"
            ]
          },
          "metadata": {},
          "output_type": "display_data"
        }
      ],
      "source": [
        "y_pred_proba = logReg.predict_proba(X_test)[::,1]\n",
        "fpr, tpr, _ = metrics.roc_curve(y_test,  y_pred_proba)\n",
        "auc = metrics.roc_auc_score(y_test, y_pred_proba)\n",
        "plt.plot(fpr,tpr,label=\"data 1, auc=\"+str(auc))\n",
        "plt.legend(loc=4)\n",
        "plt.show()"
      ]
    },
    {
      "cell_type": "markdown",
      "metadata": {
        "id": "jwpSyVqnY6rC"
      },
      "source": [
        "**ANALYSIS AND INFERENCE.**  \n",
        "\n",
        "Logistic Regression analysis on the dataset car_data with car purchased as a function of age and annual salary of 1000 people was done and the classification report shows the following:\n",
        "\n",
        "* The classification rate for the analysis is 62%\n",
        "* Precision determines the accuracy of positive predictions and the above analysis shows a precision of 65% for determining the ratio of people who did not purchase the car\n",
        "* Recall determines the fraction of positives that were correctly identified\n",
        "* F1 Score is a weighted harmonic mean of precision and recalls with the best score of 1 and the worst score of 0. F1 score conveys the balance between the precision and the recall. The report shows that the macro average of F1 score is about 0.53 <br> \n",
        "It was inferred that the trained model has a classification strength of 53%.\n",
        "\n",
        "<br>\n",
        "\n",
        " **RESULT.**  \n",
        "\n",
        "Hence, logistic regression analysis was performed on a dataset, confusion matrix and ROC curve were plotted and performance of trained model was computed successfully. "
      ]
    },
    {
      "cell_type": "markdown",
      "metadata": {
        "id": "LP710cPYS-zT"
      },
      "source": [
        "End Of Experiment 3\n",
        "\n",
        "---\n",
        "\n"
      ]
    },
    {
      "cell_type": "markdown",
      "source": [
        "# Experiment 4 - PCA\n",
        "\n",
        ">AIM:\n",
        "To perform principal component analysis (PCA) on a given dataset, visualize the result, and analyze the performance of the model.\n",
        "\n",
        "\n",
        "---\n",
        "\n",
        "\n",
        ">SOFTWARE USED: Google colab\n",
        "\n",
        "\n",
        "---\n",
        "\n",
        "\n",
        ">ALGORITHM:\n",
        "\n",
        "* Import necessary Python packages\n",
        "* Import dataset\n",
        "* Data preprocessing (if necessary)\n",
        "* Perform PCA on the data\n",
        "* Visualize the result of PCA\n",
        "* Analyze the performance of the PCA model\n",
        "\n",
        "\n",
        "---\n",
        "## Code:"
      ],
      "metadata": {
        "id": "zbZ1d4IRWT7S"
      }
    },
    {
      "cell_type": "code",
      "execution_count": null,
      "metadata": {
        "colab": {
          "base_uri": "https://localhost:8080/",
          "height": 642
        },
        "id": "aHU9U_bhaHTv",
        "outputId": "64c13793-61ad-4f64-f499-b46cd163c642"
      },
      "outputs": [
        {
          "output_type": "stream",
          "name": "stdout",
          "text": [
            "Linear regression MSE: 0.0528\n",
            "Linear regression R2 Score: 0.7743\n",
            "PCA + Linear regression MSE: 0.1082\n",
            "PCA + Linear regression R2 Score: 0.5373\n"
          ]
        },
        {
          "output_type": "display_data",
          "data": {
            "text/plain": [
              "<Figure size 432x288 with 1 Axes>"
            ],
            "image/png": "[encoded data removed]"
          },
          "metadata": {
            "needs_background": "light"
          }
        },
        {
          "output_type": "display_data",
          "data": {
            "text/plain": [
              "<Figure size 432x288 with 1 Axes>"
            ],
            "image/png": "[encoded data removed]"
          },
          "metadata": {
            "needs_background": "light"
          }
        }
      ],
      "source": [
        "import numpy as np\n",
        "import pandas as pd\n",
        "from sklearn.datasets import load_wine\n",
        "from sklearn.linear_model import LinearRegression\n",
        "from sklearn.decomposition import PCA\n",
        "from sklearn.metrics import mean_squared_error, r2_score\n",
        "import matplotlib.pyplot as plt\n",
        "\n",
        "from sklearn.datasets import load_breast_cancer\n",
        "\n",
        "# Load the Breast Cancer Wisconsin (Diagnostic) dataset\n",
        "data = load_breast_cancer()\n",
        "X = data.data\n",
        "y = data.target\n",
        "\n",
        "# Linear regression\n",
        "reg = LinearRegression().fit(X, y)\n",
        "y_pred = reg.predict(X)\n",
        "mse = mean_squared_error(y, y_pred)\n",
        "r2 = r2_score(y, y_pred)\n",
        "print(f'Linear regression MSE: {mse:.4f}')\n",
        "print(f'Linear regression R2 Score: {r2:.4f}')\n",
        "\n",
        "# PCA + Linear regression\n",
        "pca = PCA(n_components=0.95)\n",
        "X_pca = pca.fit_transform(X)\n",
        "reg_pca = LinearRegression().fit(X_pca, y)\n",
        "y_pred_pca = reg_pca.predict(X_pca)\n",
        "mse_pca = mean_squared_error(y, y_pred_pca)\n",
        "r2_pca = r2_score(y, y_pred_pca)\n",
        "print(f'PCA + Linear regression MSE: {mse_pca:.4f}')\n",
        "print(f'PCA + Linear regression R2 Score: {r2_pca:.4f}')\n",
        "\n",
        "# Linear Regression Residual plot\n",
        "residuals = y_pred - y\n",
        "plt.scatter(y_pred, residuals, color='blue')\n",
        "plt.xlabel('Predictions')\n",
        "plt.ylabel('Residuals')\n",
        "plt.title('Linear Regression Residual plot')\n",
        "plt.show()\n",
        "\n",
        "# PCA + Linear Regression Residual plot\n",
        "residuals_pca = y_pred_pca - y\n",
        "plt.scatter(y_pred_pca, residuals_pca, color='red')\n",
        "plt.xlabel('Predictions')\n",
        "plt.ylabel('Residuals')\n",
        "plt.title('PCA + Linear Regression Residual plot')\n",
        "plt.show()\n"
      ]
    },
    {
      "cell_type": "code",
      "execution_count": null,
      "metadata": {
        "colab": {
          "base_uri": "https://localhost:8080/"
        },
        "id": "Nf0PPz_baMtm",
        "outputId": "328654e0-b68c-4c0a-f351-fddb55a7f0a4"
      },
      "outputs": [
        {
          "output_type": "stream",
          "name": "stdout",
          "text": [
            "Linear regression MSE: 0.0528\n",
            "Linear regression R2 Score: 0.7743\n",
            "PCA + Linear regression MSE: 0.1082\n",
            "PCA + Linear regression R2 Score: 0.5373\n"
          ]
        }
      ],
      "source": [
        "from sklearn.metrics import r2_score, mean_squared_error\n",
        "\n",
        "# Linear regression\n",
        "reg = LinearRegression().fit(X, y)\n",
        "y_pred = reg.predict(X)\n",
        "mse = mean_squared_error(y, y_pred)\n",
        "r2 = r2_score(y, y_pred)\n",
        "print(f'Linear regression MSE: {mse:.4f}')\n",
        "print(f'Linear regression R2 Score: {r2:.4f}')\n",
        "\n",
        "# PCA + Linear regression\n",
        "pca = PCA(n_components=0.95)\n",
        "X_pca = pca.fit_transform(X)\n",
        "reg_pca = LinearRegression().fit(X_pca, y)\n",
        "y_pred_pca = reg_pca.predict(X_pca)\n",
        "mse_pca = mean_squared_error(y, y_pred_pca)\n",
        "r2_pca = r2_score(y, y_pred_pca)\n",
        "print(f'PCA + Linear regression MSE: {mse_pca:.4f}')\n",
        "print(f'PCA + Linear regression R2 Score: {r2_pca:.4f}')\n"
      ]
    },
    {
      "cell_type": "code",
      "execution_count": null,
      "metadata": {
        "colab": {
          "base_uri": "https://localhost:8080/",
          "height": 336
        },
        "id": "A1vKOTRuaRXH",
        "outputId": "699eb8ef-2dbe-466f-d05a-9bbabae8bab4"
      },
      "outputs": [
        {
          "output_type": "display_data",
          "data": {
            "text/plain": [
              "<Figure size 720x360 with 2 Axes>"
            ],
            "image/png": "[encoded data removed]"
          },
          "metadata": {
            "needs_background": "light"
          }
        }
      ],
      "source": [
        "import matplotlib.pyplot as plt\n",
        "\n",
        "# Bar chart\n",
        "models = ['Linear Regression', 'PCA + Linear Regression']\n",
        "r2_scores = [r2, r2_pca]\n",
        "mse_scores = [mse, mse_pca]\n",
        "\n",
        "fig, axs = plt.subplots(1, 2, figsize=(10, 5))\n",
        "axs[0].bar(models, r2_scores)\n",
        "axs[0].set_title('R2 Scores')\n",
        "axs[1].bar(models, mse_scores)\n",
        "axs[1].set_title('MSE Scores')\n",
        "plt.show()\n"
      ]
    },
    {
      "cell_type": "markdown",
      "source": [
        ">Conclusion: \n",
        "\n",
        "Based on the results, it can be inferred that linear regression without PCA performs better in terms of mean squared error (MSE) and R2 score. The MSE of linear regression is 0.0528 which indicates low deviation of the predicted value from the actual value. The R2 score of linear regression is 0.7743 which means that 77.43% of the variance in the target variable can be explained by the independent variables.\n",
        "\n",
        "On the other hand, the combination of PCA and linear regression results in a higher MSE of 0.1082 and a lower R2 score of 0.5373. This suggests that the linear regression model with PCA may not be as accurate in predicting the target variable compared to linear regression without PCA.\n",
        "\n",
        "Therefore, it can be concluded that linear regression without PCA is a better model for the given dataset.\n",
        "\n",
        "\n",
        "---\n",
        "\n"
      ],
      "metadata": {
        "id": "qm9rsSBuYtKJ"
      }
    },
    {
      "cell_type": "markdown",
      "source": [
        "# Experiment 5 - Naive Bayes\n",
        "\n",
        "\n",
        ">AIM:\n",
        "To perform Naive Bayes classification on a given dataset, analyze the performance of the model, and compare it with other machine learning models.\n",
        "\n",
        "---\n",
        "\n",
        "\n",
        ">SOFTWARE USED: Google colab\n",
        "\n",
        "\n",
        "---\n",
        "\n",
        "\n",
        ">ALGORITHM:\n",
        "\n",
        "* Import necessary Python packages\n",
        "* Import dataset\n",
        "* Data preprocessing (if necessary)\n",
        "* Split the data into training and testing sets\n",
        "* Train the Naive Bayes model\n",
        "* Predict target variables using the trained model\n",
        "* Evaluate the performance of the Naive Bayes model using metrics such as  accuracy, precision, recall, and F1 score\n",
        "* Compare the performance of the Naive Bayes model with other machine learning models\n",
        "\n",
        "\n",
        "---\n",
        "## Code:"
      ],
      "metadata": {
        "id": "eTXbBeiWXRJ7"
      }
    },
    {
      "cell_type": "code",
      "source": [
        "from sklearn.naive_bayes import GaussianNB\n",
        "from sklearn.datasets import load_iris\n",
        "from sklearn.model_selection import train_test_split\n",
        "\n",
        "# Load the Iris dataset\n",
        "iris = load_iris()\n",
        "X = iris.data\n",
        "y = iris.target\n"
      ],
      "metadata": {
        "id": "SLbZwId_Ya_U"
      },
      "execution_count": null,
      "outputs": []
    },
    {
      "cell_type": "code",
      "source": [
        "\n",
        "# Split the data into training and testing sets\n",
        "X_train, X_test, y_train, y_test = train_test_split(X, y, test_size=0.2, random_state=0)\n",
        "\n",
        "# Train the classifier\n",
        "gnb = GaussianNB()\n",
        "gnb.fit(X_train, y_train)\n",
        "\n",
        "# Evaluate the classifier\n",
        "print(\"Accuracy:\", gnb.score(X_test, y_test))\n"
      ],
      "metadata": {
        "colab": {
          "base_uri": "https://localhost:8080/"
        },
        "id": "Iiyb9fNKYj3h",
        "outputId": "ae67830a-2ae5-4b3f-c86a-9ab342e0a451"
      },
      "execution_count": null,
      "outputs": [
        {
          "output_type": "stream",
          "name": "stdout",
          "text": [
            "Accuracy: 0.9666666666666667\n"
          ]
        }
      ]
    },
    {
      "cell_type": "code",
      "source": [
        "import seaborn as sns\n",
        "from sklearn.metrics import confusion_matrix\n",
        "import matplotlib.pyplot as plt\n",
        "\n",
        "# Generate predictions for the test data\n",
        "y_pred = gnb.predict(X_test)\n",
        "\n",
        "# Compute the confusion matrix\n",
        "cm = confusion_matrix(y_test, y_pred)\n",
        "\n",
        "# Plot the confusion matrix using seaborn\n",
        "sns.heatmap(cm, annot=True, fmt=\"d\")\n",
        "plt.title(\"Confusion Matrix\")\n",
        "plt.xlabel(\"Predicted Label\")\n",
        "plt.ylabel(\"True Label\")\n",
        "plt.show()\n"
      ],
      "metadata": {
        "colab": {
          "base_uri": "https://localhost:8080/",
          "height": 295
        },
        "id": "tkIQYxP6Yfoy",
        "outputId": "2da88e11-7dfc-4587-fd7f-ddc28a85fe62"
      },
      "execution_count": null,
      "outputs": [
        {
          "output_type": "display_data",
          "data": {
            "text/plain": [
              "<Figure size 432x288 with 2 Axes>"
            ],
            "image/png": "[encoded data removed]"
          },
          "metadata": {
            "needs_background": "light"
          }
        }
      ]
    },
    {
      "cell_type": "code",
      "source": [
        "import numpy as np\n",
        "import matplotlib.pyplot as plt\n",
        "import pandas as pd\n",
        "from sklearn.naive_bayes import GaussianNB\n",
        "from sklearn.preprocessing import LabelEncoder\n",
        "\n",
        "# Generate synthetic data\n",
        "temperature = np.random.uniform(20, 40, 50)\n",
        "players = ['batting', 'fielding', 'bowling'] * 17\n",
        "labels = np.random.choice(players, 50)\n",
        "\n",
        "# Convert categorical labels to numerical labels\n",
        "encoder = LabelEncoder()\n",
        "encoded_labels = encoder.fit_transform(labels)\n",
        "\n",
        "# Create a DataFrame with the temperature and labels columns\n",
        "df = pd.DataFrame({'Temperature': temperature, 'Game': encoded_labels})\n",
        "\n",
        "# Fit a Naive Bayes model\n",
        "X = df[['Temperature']]\n",
        "y = df['Game']\n",
        "model = GaussianNB()\n",
        "model.fit(X, y)\n",
        "\n",
        "# Make predictions\n",
        "predictions = model.predict(X)\n",
        "\n",
        "# Plot the data\n",
        "plt.scatter(X, y, c='blue')\n",
        "plt.xlabel('Temperature (°C)')\n",
        "plt.ylabel('Game')\n",
        "plt.show()\n"
      ],
      "metadata": {
        "colab": {
          "base_uri": "https://localhost:8080/",
          "height": 279
        },
        "id": "kV3B-pQVb1Qi",
        "outputId": "d49458ae-ebda-4fa1-dbf4-c6d679c81879"
      },
      "execution_count": null,
      "outputs": [
        {
          "output_type": "display_data",
          "data": {
            "text/plain": [
              "<Figure size 432x288 with 1 Axes>"
            ],
            "image/png": "[encoded data removed]"
          },
          "metadata": {
            "needs_background": "light"
          }
        }
      ]
    },
    {
      "cell_type": "markdown",
      "source": [
        "Based on the accuracy of 0.9666666666666667, it can be concluded that the Naive Bayes model performed well on the given dataset. The accuracy score indicates that the model correctly predicted 96.67% of the target variables."
      ],
      "metadata": {
        "id": "1ZKdHRecaOGI"
      }
    },
    {
      "cell_type": "markdown",
      "source": [
        "NB_PLAYERS_PROBLEM\n",
        "* Creates a dataset, then performs NB"
      ],
      "metadata": {
        "id": "tGddUMnse9BX"
      }
    },
    {
      "cell_type": "code",
      "source": [
        "import numpy as np\n",
        "import pandas as pd\n",
        "\n",
        "# Generate random data for temperature and player playing/not playing\n",
        "np.random.seed(0)\n",
        "temperature = np.random.normal(loc=25, scale=8, size=1000)\n",
        "play = np.random.binomial(1, 0.7, size=1000)\n",
        "\n",
        "# Combine the data into a single dataset\n",
        "data = np.column_stack((temperature, play))\n",
        "df = pd.DataFrame(data, columns=['Temperature (Celsius)', 'Player_Plays'])\n",
        "\n",
        "# Add player names\n",
        "df['Player'] = [\"Player \" + str(i) for i in range(1, 1001)]\n",
        "\n",
        "# Print the first 5 rows of the dataset\n",
        "print(df.head())"
      ],
      "metadata": {
        "id": "VOnYfAendhAY",
        "outputId": "4d8c6d94-dbbf-433c-b16e-0fe0b032b26c",
        "colab": {
          "base_uri": "https://localhost:8080/"
        }
      },
      "execution_count": null,
      "outputs": [
        {
          "output_type": "stream",
          "name": "stdout",
          "text": [
            "   Temperature (Celsius)  Player_Plays    Player\n",
            "0              39.112419           0.0  Player 1\n",
            "1              28.201258           0.0  Player 2\n",
            "2              32.829904           0.0  Player 3\n",
            "3              42.927146           0.0  Player 4\n",
            "4              39.940464           0.0  Player 5\n"
          ]
        }
      ]
    },
    {
      "cell_type": "code",
      "source": [
        "df.Player_Plays.value_counts()"
      ],
      "metadata": {
        "colab": {
          "base_uri": "https://localhost:8080/"
        },
        "id": "eSSDiuYRfLH3",
        "outputId": "253b01d5-8daa-4e15-aa60-2e2c83a9b237"
      },
      "execution_count": null,
      "outputs": [
        {
          "output_type": "execute_result",
          "data": {
            "text/plain": [
              "1.0    674\n",
              "0.0    326\n",
              "Name: Player_Plays, dtype: int64"
            ]
          },
          "metadata": {},
          "execution_count": 46
        }
      ]
    },
    {
      "cell_type": "code",
      "source": [
        "from sklearn.naive_bayes import GaussianNB\n",
        "from sklearn.model_selection import train_test_split\n",
        "from sklearn.metrics import accuracy_score\n",
        "\n",
        "# Split the data into training and testing sets\n",
        "X = df[['Temperature (Celsius)']]\n",
        "y = df['Player_Plays']\n",
        "X_train, X_test, y_train, y_test = train_test_split(X, y, test_size=0.95, random_state=42)\n",
        "\n",
        "# Train the classifier\n",
        "clf = GaussianNB()\n",
        "clf.fit(X_train, y_train)\n",
        "\n",
        "\n"
      ],
      "metadata": {
        "colab": {
          "base_uri": "https://localhost:8080/"
        },
        "id": "HdMpjyoeemXp",
        "outputId": "f77aa225-cddb-431a-cd5e-dfa0fce2bc72"
      },
      "execution_count": null,
      "outputs": [
        {
          "output_type": "execute_result",
          "data": {
            "text/plain": [
              "GaussianNB()"
            ]
          },
          "metadata": {},
          "execution_count": 67
        }
      ]
    },
    {
      "cell_type": "code",
      "source": [
        "# Make predictions on the testing data\n",
        "y_pred = clf.predict(X_test)\n",
        "\n",
        "# Evaluate the accuracy of the classifier\n",
        "accuracy = accuracy_score(y_test, y_pred)\n",
        "print(\"Accuracy: {:.2f}%\".format(accuracy * 100))"
      ],
      "metadata": {
        "colab": {
          "base_uri": "https://localhost:8080/"
        },
        "id": "sfOefSONgBY4",
        "outputId": "4acf7aac-69fe-4bf9-bc03-1b3521974173"
      },
      "execution_count": null,
      "outputs": [
        {
          "output_type": "stream",
          "name": "stdout",
          "text": [
            "Accuracy: 67.05%\n"
          ]
        }
      ]
    },
    {
      "cell_type": "code",
      "source": [
        "import matplotlib.pyplot as plt\n",
        "import seaborn as sns\n",
        "from sklearn.metrics import confusion_matrix\n",
        "\n",
        "# Compute the confusion matrix\n",
        "cm = confusion_matrix(y_test, y_pred)\n",
        "\n",
        "# Plot the confusion matrix using seaborn\n",
        "sns.heatmap(cm, annot=True, fmt='d', cmap='Blues')\n",
        "plt.xlabel(\"Predicted\")\n",
        "plt.ylabel(\"True\")\n",
        "plt.title(\"Confusion Matrix\")\n",
        "plt.show()\n"
      ],
      "metadata": {
        "colab": {
          "base_uri": "https://localhost:8080/",
          "height": 295
        },
        "id": "rIY_uE4-e3S3",
        "outputId": "a27d6f4d-3b6e-4304-ab2f-7bb950bca4fd"
      },
      "execution_count": null,
      "outputs": [
        {
          "output_type": "display_data",
          "data": {
            "text/plain": [
              "<Figure size 432x288 with 2 Axes>"
            ],
            "image/png": "[encoded data removed]"
          },
          "metadata": {
            "needs_background": "light"
          }
        }
      ]
    },
    {
      "cell_type": "markdown",
      "source": [
        "The accuracy of 67.05% indicates that the Naive Bayes model was able to correctly predict the target variables in 67.05% of the cases. This score can be considered as average, as it is not particularly high or low.\n",
        "\n"
      ],
      "metadata": {
        "id": "ehUbcUWbaQq8"
      }
    },
    {
      "cell_type": "markdown",
      "source": [
        "# Experiment 6 - KNN\n",
        "\n",
        "\n",
        ">AIM:\n",
        "To perform k-nearest neighbors (KNN) classification on a given dataset, evaluate the performance of the model, and compare it with other machine learning models.\n",
        "\n",
        "---\n",
        "\n",
        "\n",
        ">SOFTWARE USED: Google colab\n",
        "\n",
        "\n",
        "---\n",
        "\n",
        "\n",
        ">ALGORITHM:\n",
        "* Import necessary Python packages\n",
        "* Import dataset\n",
        "* Data preprocessing (if necessary)\n",
        "* Split the data into training and testing sets\n",
        "* Train the KNN model using different values of k (number of nearest neighbors)\n",
        "* Predict target variables using the trained KNN model\n",
        "* Evaluate the performance of the KNN model using metrics such as accuracy, precision, recall, and F1 score\n",
        "* Determine the best value of k by comparing the performance of the KNN model for different values of k\n",
        "* Compare the performance of the KNN model with other machine learning models\n",
        "\n",
        "\n",
        "---\n",
        "## Code:"
      ],
      "metadata": {
        "id": "0T0LJ2zvY9Z3"
      }
    },
    {
      "cell_type": "code",
      "source": [
        "import numpy as np\n",
        "import pandas as pd\n",
        "import matplotlib.pyplot as plt\n",
        "from sklearn.datasets import load_breast_cancer\n",
        "from sklearn.model_selection import train_test_split\n",
        "from sklearn.neighbors import KNeighborsClassifier\n",
        "from sklearn.metrics import confusion_matrix\n",
        "from sklearn.metrics import plot_confusion_matrix\n",
        "\n",
        "# Load the breast cancer dataset\n",
        "cancer = load_breast_cancer()\n",
        "\n",
        "# Create a pandas dataframe with the features and target\n",
        "df = pd.DataFrame(np.c_[cancer['data'], cancer['target']], columns= np.append(cancer['feature_names'], ['target']))\n",
        "\n",
        "# Split the data into training and testing sets\n",
        "X = df.drop('target', axis=1)\n",
        "y = df['target']\n",
        "X_train, X_test, y_train, y_test = train_test_split(X, y, test_size=0.2, random_state=42)\n",
        "\n",
        "# Initialize the KNN model with 5 neighbors\n",
        "knn = KNeighborsClassifier(n_neighbors=5)\n",
        "\n",
        "# Fit the model to the training data\n",
        "knn.fit(X_train, y_train)\n",
        "\n",
        "# Predict the target values of the test set\n",
        "y_pred = knn.predict(X_test)\n",
        "\n",
        "# Calculate the accuracy of the model\n",
        "accuracy = knn.score(X_test, y_test)\n",
        "\n",
        "print(\"Accuracy:\", accuracy)\n",
        "\n",
        "# Plot the confusion matrix\n",
        "disp = plot_confusion_matrix(knn, X_test, y_test, display_labels=[\"Benign\", \"Malignant\"], cmap=plt.cm.Blues)\n",
        "plt.show()\n",
        "\n",
        "\n",
        "\n",
        "\n"
      ],
      "metadata": {
        "colab": {
          "base_uri": "https://localhost:8080/",
          "height": 352
        },
        "id": "FXJelBKwYeMW",
        "outputId": "cccc237e-e600-4b9d-abbd-bcead66b600a"
      },
      "execution_count": null,
      "outputs": [
        {
          "output_type": "stream",
          "name": "stdout",
          "text": [
            "Accuracy: 0.956140350877193\n"
          ]
        },
        {
          "output_type": "stream",
          "name": "stderr",
          "text": [
            "/usr/local/lib/python3.8/dist-packages/sklearn/utils/deprecation.py:87: FutureWarning: Function plot_confusion_matrix is deprecated; Function `plot_confusion_matrix` is deprecated in 1.0 and will be removed in 1.2. Use one of the class methods: ConfusionMatrixDisplay.from_predictions or ConfusionMatrixDisplay.from_estimator.\n",
            "  warnings.warn(msg, category=FutureWarning)\n"
          ]
        },
        {
          "output_type": "display_data",
          "data": {
            "text/plain": [
              "<Figure size 432x288 with 2 Axes>"
            ],
            "image/png": "[encoded data removed]"
          },
          "metadata": {
            "needs_background": "light"
          }
        }
      ]
    },
    {
      "cell_type": "code",
      "source": [
        "\n",
        "\n",
        "\n",
        "# Create a list of different values of k\n",
        "k_list = list(range(1,26))\n",
        "\n",
        "# Create an empty list to store the accuracy scores\n",
        "accuracy_scores = []\n",
        "\n",
        "# Loop through the list of different k values\n",
        "for k in k_list:\n",
        "    knn = KNeighborsClassifier(n_neighbors=k)\n",
        "    knn.fit(X_train, y_train)\n",
        "    accuracy = knn.score(X_test, y_test)\n",
        "    accuracy_scores.append(accuracy)\n",
        "\n",
        "# Plot the accuracy scores\n",
        "plt.plot(k_list, accuracy_scores)\n",
        "plt.xlabel(\"Value of K\")\n",
        "plt.ylabel(\"Accuracy\")\n",
        "plt.title(\"Accuracy vs K Value\")\n",
        "plt.show()"
      ],
      "metadata": {
        "colab": {
          "base_uri": "https://localhost:8080/",
          "height": 295
        },
        "id": "3ykp-Gkya_1f",
        "outputId": "01801717-ba3e-46d9-d3dd-476417c3e0ff"
      },
      "execution_count": null,
      "outputs": [
        {
          "output_type": "display_data",
          "data": {
            "text/plain": [
              "<Figure size 432x288 with 1 Axes>"
            ],
            "image/png": "[encoded data removed]"
          },
          "metadata": {
            "needs_background": "light"
          }
        }
      ]
    },
    {
      "cell_type": "code",
      "source": [
        "\n",
        "# Initialize the KNN model with 5 neighbors\n",
        "knn = KNeighborsClassifier(n_neighbors=11)\n",
        "\n",
        "# Fit the model to the training data\n",
        "knn.fit(X_train, y_train)\n",
        "\n",
        "# Predict the target values of the test set\n",
        "y_pred = knn.predict(X_test)\n",
        "\n",
        "# Calculate the accuracy of the model\n",
        "accuracy = knn.score(X_test, y_test)\n",
        "\n",
        "print(\"Accuracy:\", accuracy)\n",
        "\n",
        "# Plot the confusion matrix\n",
        "disp = plot_confusion_matrix(knn, X_test, y_test, display_labels=[\"Benign\", \"Malignant\"], cmap=plt.cm.Blues)\n",
        "plt.show()\n"
      ],
      "metadata": {
        "colab": {
          "base_uri": "https://localhost:8080/",
          "height": 352
        },
        "id": "tLh5Y26IhKgq",
        "outputId": "27ada080-a32c-414c-e2af-6a4825f349ab"
      },
      "execution_count": null,
      "outputs": [
        {
          "output_type": "stream",
          "name": "stdout",
          "text": [
            "Accuracy: 0.9824561403508771\n"
          ]
        },
        {
          "output_type": "stream",
          "name": "stderr",
          "text": [
            "/usr/local/lib/python3.8/dist-packages/sklearn/utils/deprecation.py:87: FutureWarning: Function plot_confusion_matrix is deprecated; Function `plot_confusion_matrix` is deprecated in 1.0 and will be removed in 1.2. Use one of the class methods: ConfusionMatrixDisplay.from_predictions or ConfusionMatrixDisplay.from_estimator.\n",
            "  warnings.warn(msg, category=FutureWarning)\n"
          ]
        },
        {
          "output_type": "display_data",
          "data": {
            "text/plain": [
              "<Figure size 432x288 with 2 Axes>"
            ],
            "image/png": "[encoded data removed]"
          },
          "metadata": {
            "needs_background": "light"
          }
        }
      ]
    },
    {
      "cell_type": "markdown",
      "source": [
        "The accuracy of 0.9824561403508771 indicates that the KNN model was able to correctly predict the target variables in 98.24% of the cases. This is a very high accuracy score and suggests that the KNN model performed well on the given dataset.\n"
      ],
      "metadata": {
        "id": "QMstIN66dP5-"
      }
    },
    {
      "cell_type": "markdown",
      "source": [
        "# Experiment 7 - SVM\n",
        "\n",
        "\n",
        ">AIM:\n",
        "To perform SVM Support Vector Machine classification on a given dataset, evaluate the performance of the model, and compare it with other machine learning models.\n",
        "\n",
        "---\n",
        "\n",
        "\n",
        ">SOFTWARE USED: Google colab\n",
        "\n",
        "\n",
        "---\n",
        "\n",
        "\n",
        ">ALGORITHM:\n",
        "* Import necessary Python packages\n",
        "* Import dataset\n",
        "* Data preprocessing (if necessary)\n",
        "* Split the data into training and testing sets\n",
        "* Train a SVM Model\n",
        "* Evaluate performance\n",
        "\n",
        "\n",
        "\n",
        "---\n",
        "## Code:"
      ],
      "metadata": {
        "id": "DQu8c1wubrV8"
      }
    },
    {
      "cell_type": "code",
      "source": [
        "from sklearn.datasets import load_breast_cancer\n",
        "from sklearn.model_selection import train_test_split\n",
        "from sklearn.svm import SVC\n",
        "from sklearn.metrics import accuracy_score, mean_squared_error, confusion_matrix\n",
        "import seaborn as sns\n",
        "\n",
        "# Load breast cancer dataset\n",
        "data = load_breast_cancer()\n",
        "X = data.data\n",
        "y = data.target\n",
        "\n",
        "# Split dataset into training and testing sets\n",
        "X_train, X_test, y_train, y_test = train_test_split(X, y, test_size=0.3, random_state=42)\n",
        "\n",
        "# Create SVM model\n",
        "model = SVC(kernel='linear')\n",
        "\n",
        "# Train SVM model on training set\n",
        "model.fit(X_train, y_train)\n",
        "\n",
        "# Predict on testing set\n",
        "y_pred = model.predict(X_test)\n",
        "\n",
        "# Calculate accuracy\n",
        "accuracy = accuracy_score(y_test, y_pred)\n",
        "\n",
        "# Calculate mean squared error\n",
        "mse = mean_squared_error(y_test, y_pred)\n",
        "\n",
        "# Create confusion matrix\n",
        "cm = confusion_matrix(y_test, y_pred)\n",
        "\n",
        "# Plot confusion matrix using seaborn\n",
        "sns.heatmap(cm, annot=True, cmap='Blues')\n",
        "\n",
        "# Print accuracy and MSE\n",
        "print(\"Accuracy:\", accuracy)\n",
        "print(\"Mean Squared Error:\", mse)\n"
      ],
      "metadata": {
        "id": "oVW72rG0bthA",
        "outputId": "a6d6849f-fe48-42d7-8322-1730aad3c1c0",
        "colab": {
          "base_uri": "https://localhost:8080/",
          "height": 299
        }
      },
      "execution_count": null,
      "outputs": [
        {
          "output_type": "stream",
          "name": "stdout",
          "text": [
            "Accuracy: 0.9649122807017544\n",
            "Mean Squared Error: 0.03508771929824561\n"
          ]
        },
        {
          "output_type": "display_data",
          "data": {
            "text/plain": [
              "<Figure size 432x288 with 2 Axes>"
            ],
            "image/png": "[encoded data removed]"
          },
          "metadata": {
            "needs_background": "light"
          }
        }
      ]
    },
    {
      "cell_type": "markdown",
      "source": [
        "Conclusion:Accuracy: 0.964912280701754,Mean Squared Error: 0.03508771929824561\n",
        ">The SVM model achieved an accuracy of 0.9649 and a mean squared error of 0.0351. This means that the model correctly predicted the class of 96.49% of the test samples, while the remaining 3.51% were misclassified. The mean squared error is a measure of the difference between the predicted and actual values, and in this case, it is relatively low, indicating that the model's predictions are relatively close to the actual values. Overall, these results suggest that the SVM model is effective at classifying the test samples and can be considered a good model for this task. "
      ],
      "metadata": {
        "id": "ktuEHdxidq5F"
      }
    },
    {
      "cell_type": "markdown",
      "source": [
        "# Experiment 8 - Decision Tree\n",
        "\n",
        "\n",
        ">AIM:\n",
        "To perform Decision Tree classification on a given dataset, evaluate the performance of the model, and compare it with other machine learning models.\n",
        "\n",
        "---\n",
        "\n",
        "\n",
        ">SOFTWARE USED: Google colab\n",
        "\n",
        "\n",
        "---\n",
        "\n",
        "\n",
        ">ALGORITHM:\n",
        "* Import necessary Python packages\n",
        "* Import dataset\n",
        "* Data preprocessing (if necessary)\n",
        "* Split the data into training and testing sets\n",
        "* Train a Decision Tree Model\n",
        "* Evaluate performance\n",
        "\n",
        "\n",
        "\n",
        "---\n",
        "## Code:"
      ],
      "metadata": {
        "id": "5BLJ0xgZZaCl"
      }
    },
    {
      "cell_type": "code",
      "source": [
        "from sklearn.datasets import load_breast_cancer\n",
        "from sklearn.tree import DecisionTreeClassifier\n",
        "from sklearn.model_selection import train_test_split\n",
        "from sklearn.metrics import accuracy_score\n",
        "from sklearn.metrics import  confusion_matrix\n",
        "\n",
        "# Load the dataset\n",
        "data = load_breast_cancer()\n",
        "\n",
        "# Split the dataset into training and testing sets\n",
        "X_train, X_test, y_train, y_test = train_test_split(data.data, data.target, test_size=0.2, random_state=42)\n",
        "\n",
        "# Build the decision tree classifier\n",
        "clf = DecisionTreeClassifier(random_state=42)\n",
        "clf.fit(X_train, y_train)\n",
        "\n",
        "# Make predictions on the testing set\n",
        "y_pred = clf.predict(X_test)\n",
        "\n",
        "# Calculate the accuracy of the model\n",
        "accuracy = accuracy_score(y_test, y_pred)\n",
        "print('Accuracy:', accuracy)\n"
      ],
      "metadata": {
        "colab": {
          "base_uri": "https://localhost:8080/"
        },
        "id": "YPBATbsRZsH0",
        "outputId": "087bf6e6-0b4d-4392-d583-4f39dbee84f2"
      },
      "execution_count": null,
      "outputs": [
        {
          "output_type": "stream",
          "name": "stdout",
          "text": [
            "Accuracy: 0.9473684210526315\n"
          ]
        }
      ]
    },
    {
      "cell_type": "code",
      "source": [
        "# Print the confusion matrix\n",
        "cm = confusion_matrix(y_test, y_pred)\n",
        "print('Confusion matrix:')\n",
        "print(cm)"
      ],
      "metadata": {
        "colab": {
          "base_uri": "https://localhost:8080/"
        },
        "id": "if_aIXwdZw95",
        "outputId": "e2502df1-b5e0-4f2a-c6c1-221a2e0b5d95"
      },
      "execution_count": null,
      "outputs": [
        {
          "output_type": "stream",
          "name": "stdout",
          "text": [
            "Confusion matrix:\n",
            "[[40  3]\n",
            " [ 3 68]]\n"
          ]
        }
      ]
    },
    {
      "cell_type": "code",
      "source": [
        "from sklearn.tree import plot_tree\n",
        "# Plot the decision tree\n",
        "plt.figure(figsize=(15,10))\n",
        "plot_tree(clf, filled=True, feature_names=data.feature_names, class_names=data.target_names)\n",
        "plt.show()"
      ],
      "metadata": {
        "colab": {
          "base_uri": "https://localhost:8080/",
          "height": 697
        },
        "id": "ATeRCYWJdL-n",
        "outputId": "7151ffa2-f54e-45c8-d90b-1eebbcd44a9c"
      },
      "execution_count": null,
      "outputs": [
        {
          "output_type": "display_data",
          "data": {
            "text/plain": [
              "<Figure size 1500x1000 with 1 Axes>"
            ],
            "image/png": "[encoded data removed]"
          },
          "metadata": {}
        }
      ]
    },
    {
      "cell_type": "markdown",
      "source": [
        ">Conclusion:  A Decision Tree Model Was trained with an of Accuracy: 0.9475, and it's Graph was plotted."
      ],
      "metadata": {
        "id": "bjUrCub9eHMi"
      }
    },
    {
      "cell_type": "markdown",
      "source": [
        "# Experiment 9 - Random Forest\n",
        "\n",
        "\n",
        ">AIM:\n",
        "To perform Random Forest classification on a given dataset, evaluate the performance of the model, and compare it with other machine learning models.\n",
        "\n",
        "---\n",
        "\n",
        "\n",
        ">SOFTWARE USED: Google colab\n",
        "\n",
        "\n",
        "---\n",
        "\n",
        "\n",
        ">ALGORITHM:\n",
        "* Import necessary Python packages\n",
        "* Import dataset\n",
        "* Data preprocessing (if necessary)\n",
        "* Split the data into training and testing sets\n",
        "* Train a Random Forest Model\n",
        "* Evaluate performance\n",
        "\n",
        "\n",
        "\n",
        "---\n",
        "## Code:"
      ],
      "metadata": {
        "id": "qMgfehU6Z9J4"
      }
    },
    {
      "cell_type": "code",
      "source": [
        "from sklearn.datasets import load_breast_cancer\n",
        "from sklearn.ensemble import RandomForestClassifier\n",
        "from sklearn.model_selection import train_test_split\n",
        "from sklearn.metrics import accuracy_score, confusion_matrix\n",
        "import numpy as np\n",
        "\n",
        "\n",
        "# Load the dataset\n",
        "data = load_breast_cancer()\n",
        "\n",
        "# Split the dataset into training and testing sets\n",
        "X_train, X_test, y_train, y_test = train_test_split(data.data, data.target, test_size=0.2, random_state=42)\n",
        "\n",
        "# Build the random forest classifier\n",
        "clf = RandomForestClassifier(n_estimators=100, random_state=42)\n",
        "clf.fit(X_train, y_train)\n",
        "\n",
        "# Make predictions on the testing set\n",
        "y_pred = clf.predict(X_test)\n",
        "\n",
        "# Calculate the accuracy of the model\n",
        "accuracy = accuracy_score(y_test, y_pred)\n",
        "print('Accuracy:', accuracy)\n",
        "\n",
        "# Print the confusion matrix\n",
        "cm = confusion_matrix(y_test, y_pred)\n",
        "print('Confusion matrix:')\n",
        "print(cm)\n"
      ],
      "metadata": {
        "colab": {
          "base_uri": "https://localhost:8080/"
        },
        "id": "hn1TkxEvaA6R",
        "outputId": "f4e7723f-50bf-41f6-b1c6-e349ea5aefb2"
      },
      "execution_count": null,
      "outputs": [
        {
          "output_type": "stream",
          "name": "stdout",
          "text": [
            "Accuracy: 0.9649122807017544\n",
            "Confusion matrix:\n",
            "[[40  3]\n",
            " [ 1 70]]\n"
          ]
        }
      ]
    },
    {
      "cell_type": "code",
      "source": [
        "# Plot the feature importances\n",
        "importances = clf.feature_importances_\n",
        "std = np.std([tree.feature_importances_ for tree in clf.estimators_], axis=0)\n",
        "indices = np.argsort(importances)[::-1]\n",
        "\n",
        "plt.figure()\n",
        "plt.title('Feature importances')\n",
        "plt.bar(range(X_train.shape[1]), importances[indices], color='r', yerr=std[indices], align='center')\n",
        "plt.xticks(range(X_train.shape[1]), data.feature_names[indices], rotation=90)\n",
        "plt.xlim([-1, X_train.shape[1]])\n",
        "plt.tight_layout()\n",
        "plt.show()"
      ],
      "metadata": {
        "colab": {
          "base_uri": "https://localhost:8080/",
          "height": 487
        },
        "id": "FZW38U5YdAwm",
        "outputId": "3f0f4304-73f4-4855-d32a-86524a55e033"
      },
      "execution_count": null,
      "outputs": [
        {
          "output_type": "display_data",
          "data": {
            "text/plain": [
              "<Figure size 640x480 with 1 Axes>"
            ],
            "image/png": "[encoded data removed]"
          },
          "metadata": {}
        }
      ]
    },
    {
      "cell_type": "markdown",
      "source": [
        "A feature importance graph is a visual representation of the importance of each feature used by a machine learning model in making predictions. It provides valuable insights into how the model works and which features are most influential in determining the outcome.\n",
        "\n",
        "By analyzing the feature importance graph, we can identify the most important features and use this information to improve the model's performance. For example, we can remove or reduce the importance of features that are less relevant or redundant, or we can focus on improving the quality of these features to enhance the overall accuracy of the model.\n",
        "\n",
        "Feature importance graphs are particularly useful in complex models with many features, where it may be difficult to identify which features are the most important by simply inspecting the model's output. By providing a visual representation of the feature importance, these graphs make it easier to understand and optimize the model, thereby improving its accuracy and reducing the risk of overfitting."
      ],
      "metadata": {
        "id": "0u8yYksTex6B"
      }
    },
    {
      "cell_type": "markdown",
      "source": [
        ">Conclusion:  A Random forest Model Was trained with an of Accuracy: 0.9649, and it's feature importance graph was plotted."
      ],
      "metadata": {
        "id": "Q9vfOfPMejNC"
      }
    },
    {
      "cell_type": "markdown",
      "source": [
        "# Experiment 10 - K-Means\n",
        "\n",
        "\n",
        ">AIM:\n",
        "To perform K-Means on a given dataset, evaluate the performance of the model, and compare it with other machine learning models.\n",
        "\n",
        "---\n",
        "\n",
        "\n",
        ">SOFTWARE USED: Google colab\n",
        "\n",
        "\n",
        "---\n",
        "\n",
        "\n",
        ">ALGORITHM:\n",
        "* Import necessary Python packages\n",
        "* Import dataset\n",
        "* Data preprocessing (if necessary)\n",
        "* Split the data into training and testing sets\n",
        "* Train a K-Means Model\n",
        "* Evaluate performance\n",
        "\n",
        "\n",
        "\n",
        "---\n",
        "## Code:"
      ],
      "metadata": {
        "id": "TQUKLObIaTCx"
      }
    },
    {
      "cell_type": "code",
      "source": [
        "from sklearn.datasets import load_iris\n",
        "from sklearn.cluster import KMeans\n",
        "from sklearn.metrics import silhouette_score\n",
        "\n",
        "# Load the dataset\n",
        "data = load_iris()\n",
        "\n",
        "# Build the K-Means model\n",
        "kmeans = KMeans(n_clusters=3, random_state=42)\n",
        "kmeans.fit(data.data)\n",
        "\n",
        "# Evaluate the model using the silhouette score\n",
        "score = silhouette_score(data.data, kmeans.labels_)\n",
        "print('Silhouette Score:', score)\n"
      ],
      "metadata": {
        "colab": {
          "base_uri": "https://localhost:8080/"
        },
        "id": "6UygBjiscaom",
        "outputId": "4e8795e4-f484-4ba4-8c18-d9f03b8af97c"
      },
      "execution_count": null,
      "outputs": [
        {
          "output_type": "stream",
          "name": "stdout",
          "text": [
            "Silhouette Score: 0.5528190123564095\n"
          ]
        },
        {
          "output_type": "stream",
          "name": "stderr",
          "text": [
            "/usr/local/lib/python3.9/dist-packages/sklearn/cluster/_kmeans.py:870: FutureWarning: The default value of `n_init` will change from 10 to 'auto' in 1.4. Set the value of `n_init` explicitly to suppress the warning\n",
            "  warnings.warn(\n"
          ]
        }
      ]
    },
    {
      "cell_type": "markdown",
      "source": [
        "The silhouette score is a measure of how well separated clusters are. It ranges from -1 to 1, with higher values indicating better separation between clusters.\n",
        "\n",
        "To use the silhouette_score function in scikit-learn, you need to pass in two arguments: the data and the cluster labels. The data should be an array-like object, such as a numpy array or a pandas dataframe, and the cluster labels should be an array of integers indicating the cluster assignments for each data point."
      ],
      "metadata": {
        "id": "ZzWBUZuje9R_"
      }
    },
    {
      "cell_type": "code",
      "source": [
        "import matplotlib.pyplot as plt\n",
        "from sklearn.datasets import load_iris\n",
        "from sklearn.cluster import KMeans\n",
        "\n",
        "# Load the iris dataset\n",
        "data = load_iris()\n",
        "\n",
        "# Build the K-Means model\n",
        "kmeans = KMeans(n_clusters=3, random_state=42)\n",
        "kmeans.fit(data.data)\n",
        "\n",
        "# Get the cluster labels\n",
        "labels = kmeans.labels_\n",
        "\n",
        "# Plot the data points with different colors corresponding to their assigned cluster labels\n",
        "plt.scatter(data.data[:, 0], data.data[:, 1], c=labels)\n",
        "plt.xlabel('Sepal length')\n",
        "plt.ylabel('Sepal width')\n",
        "plt.show()\n"
      ],
      "metadata": {
        "colab": {
          "base_uri": "https://localhost:8080/",
          "height": 506
        },
        "id": "a7vBDyX0cw7l",
        "outputId": "7b5ccb47-cd9b-4707-99c9-f8dfa88d9589"
      },
      "execution_count": null,
      "outputs": [
        {
          "output_type": "stream",
          "name": "stderr",
          "text": [
            "/usr/local/lib/python3.9/dist-packages/sklearn/cluster/_kmeans.py:870: FutureWarning: The default value of `n_init` will change from 10 to 'auto' in 1.4. Set the value of `n_init` explicitly to suppress the warning\n",
            "  warnings.warn(\n"
          ]
        },
        {
          "output_type": "display_data",
          "data": {
            "text/plain": [
              "<Figure size 640x480 with 1 Axes>"
            ],
            "image/png": "[encoded data removed]"
          },
          "metadata": {}
        }
      ]
    },
    {
      "cell_type": "markdown",
      "source": [
        ">Conclusion:  A K-Means Model Was trained with an of silhouette_score: 0.552, and it's feature Cluster graph was plotted."
      ],
      "metadata": {
        "id": "cLRUrpmofEOx"
      }
    }
  ],
  "metadata": {
    "colab": {
      "provenance": [],
      "toc_visible": true
    },
    "kernelspec": {
      "display_name": "Python 3",
      "name": "python3"
    },
    "language_info": {
      "name": "python"
    }
  },
  "nbformat": 4,
  "nbformat_minor": 0
}